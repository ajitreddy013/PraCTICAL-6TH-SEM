{
  "cells": [
    {
      "cell_type": "code",
      "execution_count": 1,
      "metadata": {},
      "outputs": [],
      "source": [
        "# Importing libraries \n",
        "# Importing essential libraries for data analysis and visualization\n",
        "import pandas as pd  # For data manipulation and analysis\n",
        "import numpy as np   # For numerical operations\n",
        "import matplotlib.pyplot as plt  # For creating visualizations"
      ]
    },
    {
      "cell_type": "code",
      "execution_count": 2,
      "metadata": {},
      "outputs": [],
      "source": [
        "# Read the csv file into a pandas dataframe\n",
        "# Read the academic data CSV file into a pandas DataFrame\n",
        "# This will load the student records containing their names, gender and subject marks\n",
        "df = pd.read_csv(\"acdemic_data.csv\")"
      ]
    },
    {
      "cell_type": "code",
      "execution_count": 3,
      "metadata": {},
      "outputs": [
        {
          "name": "stdout",
          "output_type": "stream",
          "text": [
            "  Firstname Lastname Gender  SPOS DSBDA     WT  DA\n",
            "0        LA      Roy      M  85.0    88   90.0  92\n",
            "1        SA    Dixit      F  90.0    90   94.0  95\n",
            "2        AB   Danial      M   NaN    na  100.0  80\n",
            "3        DA   Kapoor      M  95.0    86  500.0  82\n",
            "4        SA      Jha      F   NaN    84   98.0  84\n"
          ]
        }
      ],
      "source": [
        "# Display the first 5 rows of the DataFrame using head() method\n",
        "# This gives us a quick overview of the data structure and content\n",
        "print(df.head())"
      ]
    },
    {
      "cell_type": "code",
      "execution_count": 4,
      "metadata": {},
      "outputs": [],
      "source": [
        "# 1 --Define a list of common missing value formats that may appear in the dataset\n",
        "# These formats include various ways missing values might be represented in the data\n",
        "missing_value_formats = [\n",
        "    \"n.a.\",  # Common abbreviation for \"not available\"\n",
        "    \"?\",     # Question mark often used to indicate unknown values\n",
        "    \"NA\",    # Standard \"not available\" abbreviation\n",
        "    \"n/a\",   # Another common \"not available\" format\n",
        "    \"na\",    # Lowercase version of NA\n",
        "    \"--\"     # Double dash sometimes used to represent missing values\n",
        "]\n",
        "# Read the CSV file with custom NA value formats\n",
        "# This ensures consistent handling of missing values across different formats\n",
        "# The na_values parameter specifies additional strings to recognize as NA/NaN\n",
        "df = pd.read_csv(\"acdemic_data.csv\", na_values=missing_value_formats)"
      ]
    },
    {
      "cell_type": "code",
      "execution_count": 5,
      "metadata": {},
      "outputs": [
        {
          "name": "stdout",
          "output_type": "stream",
          "text": [
            "0    M\n",
            "1    F\n",
            "2    M\n",
            "3    M\n",
            "4    F\n",
            "5    F\n",
            "6    M\n",
            "7    F\n",
            "8    M\n",
            "9    M\n",
            "Name: Gender, dtype: object\n"
          ]
        }
      ],
      "source": [
        "# Display the first 10 rows of the Gender column from the DataFrame\n",
        "# This helps verify the data after handling missing values and shows the gender distribution\n",
        "print(df['Gender'].head(10))"
      ]
    },
    {
      "cell_type": "code",
      "execution_count": 6,
      "metadata": {},
      "outputs": [
        {
          "name": "stdout",
          "output_type": "stream",
          "text": [
            "0    False\n",
            "1    False\n",
            "2    False\n",
            "3    False\n",
            "4    False\n",
            "5    False\n",
            "6    False\n",
            "7    False\n",
            "8    False\n",
            "9    False\n",
            "Name: Gender, dtype: bool\n"
          ]
        }
      ],
      "source": [
        "# 1 -- Null values are marked True\n",
        "# Check for null values in the Gender column and display first 10 results\n",
        "# Returns True for null values and False for non-null values\n",
        "print(df['Gender'].isnull().head(10))"
      ]
    },
    {
      "cell_type": "code",
      "execution_count": 7,
      "metadata": {},
      "outputs": [
        {
          "name": "stdout",
          "output_type": "stream",
          "text": [
            "0    True\n",
            "1    True\n",
            "2    True\n",
            "3    True\n",
            "4    True\n",
            "5    True\n",
            "6    True\n",
            "7    True\n",
            "8    True\n",
            "9    True\n",
            "Name: Gender, dtype: bool\n"
          ]
        }
      ],
      "source": [
        "# notnull() returns False for NaN values and True for non-NaN values\n",
        "# This is the opposite of isnull() - it marks all valid values as True\n",
        "# and all missing/NaN values as False\n",
        "print(df['Gender'].notnull().head(10))"
      ]
    },
    {
      "cell_type": "code",
      "execution_count": 8,
      "metadata": {},
      "outputs": [],
      "source": [
        "# notnull() is a pandas method that returns a boolean mask where:\n",
        "# - True indicates non-null values (valid data)\n",
        "# - False indicates null values (NaN, None, etc.)\n",
        "# This is useful for filtering out rows with missing data\n",
        "null_filter = df['Gender'].notnull()"
      ]
    },
    {
      "cell_type": "code",
      "execution_count": 9,
      "metadata": {},
      "outputs": [
        {
          "name": "stdout",
          "output_type": "stream",
          "text": [
            "   Firstname Lastname Gender   SPOS  DSBDA     WT   DA\n",
            "0         LA      Roy      M   85.0   88.0   90.0   92\n",
            "1         SA    Dixit      F   90.0   90.0   94.0   95\n",
            "2         AB   Danial      M    NaN    NaN  100.0   80\n",
            "3         DA   Kapoor      M   95.0   86.0  500.0   82\n",
            "4         SA      Jha      F    NaN   84.0   98.0   84\n",
            "5         WS   Thakur      F   87.0    NaN   97.0   86\n",
            "6         DY   Kapoor      M   81.0   80.0   96.0   89\n",
            "7         JK   Khanna      F   40.0   88.0   95.0   87\n",
            "8         RT  Pardesi      M   10.0   96.0   94.0   88\n",
            "9         UV  Pardesi      M    9.0    NaN   93.0   96\n",
            "10        MN    Desai      F  200.0   87.0    NaN  N.A\n",
            "11        BC    Patel      F  300.0    NaN   88.0  300\n"
          ]
        }
      ],
      "source": [
        "# Filter and display only rows where Gender column has valid (non-null) values\n",
        "# This uses the boolean mask created earlier to show only complete records\n",
        "# The null_filter variable contains True for valid entries and False for null values\n",
        "print(df[null_filter]) "
      ]
    },
    {
      "cell_type": "code",
      "execution_count": 10,
      "metadata": {},
      "outputs": [
        {
          "name": "stdout",
          "output_type": "stream",
          "text": [
            "True\n"
          ]
        }
      ],
      "source": [
        "# Check if there are any null values in the entire DataFrame\n",
        "# df.isnull() creates a boolean mask of all null values\n",
        "# .values converts the mask to a numpy array\n",
        "# .any() returns True if any value in the array is True (indicating presence of null values)\n",
        "print(df.isnull().values.any())"
      ]
    },
    {
      "cell_type": "code",
      "execution_count": 11,
      "metadata": {},
      "outputs": [],
      "source": [
        "# Drop all rows that contain any null values (NaN, None, etc.)\n",
        "# axis=0 specifies we're dropping rows (axis=1 would drop columns)\n",
        "# inplace=True modifies the DataFrame directly instead of returning a copy\n",
        "# This is a common data cleaning step to remove incomplete records\n",
        "df.dropna(axis=0, inplace=True)\n"
      ]
    },
    {
      "cell_type": "code",
      "execution_count": 12,
      "metadata": {},
      "outputs": [],
      "source": [
        "# Drop all rows that contain at least one null value (NaN, None, etc.)\n",
        "# This is a data cleaning operation that removes incomplete records\n",
        "# - axis=0 specifies we're dropping rows (not columns)\n",
        "# - how='any' means drop if ANY column in the row has a null value\n",
        "# - Returns a new DataFrame with only complete rows\n",
        "new_df = df.dropna(axis = 0, how ='any')"
      ]
    },
    {
      "cell_type": "code",
      "execution_count": 13,
      "metadata": {},
      "outputs": [],
      "source": [
        "# drop all rows with all null\n",
        "new_df = df.dropna(axis = 0, how ='all')"
      ]
    },
    {
      "cell_type": "code",
      "execution_count": 14,
      "metadata": {},
      "outputs": [],
      "source": [
        "# Drop all columns that contain at least one null value (NaN, None, etc.)\n",
        "# - axis=1 specifies we're dropping columns (not rows)\n",
        "# - how='any' means drop if ANY row in the column has a null value\n",
        "# - Returns a new DataFrame with only columns that have no null values\n",
        "# This is useful for removing columns with incomplete data\n",
        "new_df = df.dropna(axis=1, how='any')\n"
      ]
    },
    {
      "cell_type": "code",
      "execution_count": 15,
      "metadata": {},
      "outputs": [],
      "source": [
        "# Drop all columns that contain only null values (NaN, None, etc.)\n",
        "# - axis=1 specifies we're dropping columns (not rows)\n",
        "# - how='all' means drop if ALL values in the column are null\n",
        "# - Returns a new DataFrame with only columns that have at least one non-null value\n",
        "# This is useful for removing completely empty columns from the dataset\n",
        "new_df = df.dropna(axis = 1, how ='all')"
      ]
    },
    {
      "cell_type": "code",
      "execution_count": 16,
      "metadata": {},
      "outputs": [
        {
          "name": "stderr",
          "output_type": "stream",
          "text": [
            "/var/folders/2j/73zzfhw16y5c_5v2q9j0mxvr0000gn/T/ipykernel_18743/2424766147.py:6: FutureWarning: A value is trying to be set on a copy of a DataFrame or Series through chained assignment using an inplace method.\n",
            "The behavior will change in pandas 3.0. This inplace method will never work because the intermediate object on which we are setting values always behaves as a copy.\n",
            "\n",
            "For example, when doing 'df[col].method(value, inplace=True)', try using 'df.method({col: value}, inplace=True)' or df[col] = df[col].method(value) instead, to perform the operation inplace on the original object.\n",
            "\n",
            "\n",
            "  df['SPOS'].fillna(0, inplace=True)\n"
          ]
        }
      ],
      "source": [
        "# Replacing Null values with a constant value (0 in this case)\n",
        "# - fillna() is used to replace null values with a specified value\n",
        "# - inplace=True modifies the DataFrame directly instead of returning a copy\n",
        "# - This is useful when you want to replace missing values with a meaningful default value\n",
        "# - Common use case: replacing missing numeric values with 0 or another meaningful constant\n",
        "df['SPOS'].fillna(0, inplace=True)\n",
        "\n"
      ]
    },
    {
      "cell_type": "code",
      "execution_count": 17,
      "metadata": {},
      "outputs": [
        {
          "name": "stdout",
          "output_type": "stream",
          "text": [
            "0    85.0\n",
            "1    90.0\n",
            "3    95.0\n",
            "6    81.0\n",
            "7    40.0\n",
            "8    10.0\n",
            "Name: SPOS, dtype: float64\n"
          ]
        }
      ],
      "source": [
        "# To check changes call \n",
        "# - head() method displays the first n rows of the DataFrame\n",
        "# - n=10 specifies we want to see the first 10 rows\n",
        "# - This helps verify that our null value replacements worked correctly\n",
        "# - We can see the SPOS column values after filling nulls with 0\n",
        "print(df['SPOS'].head(10))\n"
      ]
    },
    {
      "cell_type": "code",
      "execution_count": 18,
      "metadata": {},
      "outputs": [
        {
          "name": "stdout",
          "output_type": "stream",
          "text": [
            "0    88.0\n",
            "1    90.0\n",
            "3    86.0\n",
            "6    80.0\n",
            "7    88.0\n",
            "8    96.0\n",
            "Name: DSBDA, dtype: float64\n"
          ]
        }
      ],
      "source": [
        "#Replacing Null with the value from the previous row or the next row \n",
        "#method = 'pad’ for taking values from the previous row \n",
        "# Replacing Null values with values from adjacent rows\n",
        "# - method='pad' uses forward fill (ffill) to take values from previous rows\n",
        "# - inplace=True modifies the DataFrame directly instead of returning a copy\n",
        "# - This is useful when you want to fill missing values with the most recent valid value\n",
        "# - Common use case: time series data where missing values can be reasonably filled with previous values\n",
        "\n",
        "df['DSBDA'] = df['DSBDA'].ffill()\n",
        "print(df['DSBDA'].head(10))\n",
        "\n"
      ]
    },
    {
      "cell_type": "code",
      "execution_count": 19,
      "metadata": {},
      "outputs": [
        {
          "name": "stdout",
          "output_type": "stream",
          "text": [
            "0    85.0\n",
            "1    90.0\n",
            "3    95.0\n",
            "6    81.0\n",
            "7    40.0\n",
            "8    10.0\n",
            "Name: SPOS, dtype: float64\n"
          ]
        }
      ],
      "source": [
        "# Using backward fill (bfill) to replace null values with values from subsequent rows\n",
        "# - method='bfill' uses backward fill to take values from next rows\n",
        "# - This is useful when forward fill isn't appropriate and you want to use future values\n",
        "# - Common use case: when missing values should be filled with the next available value\n",
        "df['SPOS'] = df['SPOS'].bfill()\n",
        "print(df['SPOS'].head(10))\n"
      ]
    },
    {
      "cell_type": "code",
      "execution_count": 20,
      "metadata": {},
      "outputs": [
        {
          "data": {
            "text/html": [
              "<div>\n",
              "<style scoped>\n",
              "    .dataframe tbody tr th:only-of-type {\n",
              "        vertical-align: middle;\n",
              "    }\n",
              "\n",
              "    .dataframe tbody tr th {\n",
              "        vertical-align: top;\n",
              "    }\n",
              "\n",
              "    .dataframe thead th {\n",
              "        text-align: right;\n",
              "    }\n",
              "</style>\n",
              "<table border=\"1\" class=\"dataframe\">\n",
              "  <thead>\n",
              "    <tr style=\"text-align: right;\">\n",
              "      <th></th>\n",
              "      <th>Firstname</th>\n",
              "      <th>Lastname</th>\n",
              "      <th>Gender</th>\n",
              "      <th>SPOS</th>\n",
              "      <th>DSBDA</th>\n",
              "      <th>WT</th>\n",
              "      <th>DA</th>\n",
              "    </tr>\n",
              "  </thead>\n",
              "  <tbody>\n",
              "    <tr>\n",
              "      <th>0</th>\n",
              "      <td>LA</td>\n",
              "      <td>Roy</td>\n",
              "      <td>M</td>\n",
              "      <td>85.0</td>\n",
              "      <td>88.0</td>\n",
              "      <td>90.0</td>\n",
              "      <td>92</td>\n",
              "    </tr>\n",
              "    <tr>\n",
              "      <th>1</th>\n",
              "      <td>SA</td>\n",
              "      <td>Dixit</td>\n",
              "      <td>F</td>\n",
              "      <td>90.0</td>\n",
              "      <td>90.0</td>\n",
              "      <td>94.0</td>\n",
              "      <td>95</td>\n",
              "    </tr>\n",
              "    <tr>\n",
              "      <th>3</th>\n",
              "      <td>DA</td>\n",
              "      <td>Kapoor</td>\n",
              "      <td>M</td>\n",
              "      <td>95.0</td>\n",
              "      <td>86.0</td>\n",
              "      <td>500.0</td>\n",
              "      <td>82</td>\n",
              "    </tr>\n",
              "    <tr>\n",
              "      <th>6</th>\n",
              "      <td>DY</td>\n",
              "      <td>Kapoor</td>\n",
              "      <td>M</td>\n",
              "      <td>81.0</td>\n",
              "      <td>80.0</td>\n",
              "      <td>96.0</td>\n",
              "      <td>89</td>\n",
              "    </tr>\n",
              "    <tr>\n",
              "      <th>7</th>\n",
              "      <td>JK</td>\n",
              "      <td>Khanna</td>\n",
              "      <td>F</td>\n",
              "      <td>40.0</td>\n",
              "      <td>88.0</td>\n",
              "      <td>95.0</td>\n",
              "      <td>87</td>\n",
              "    </tr>\n",
              "  </tbody>\n",
              "</table>\n",
              "</div>"
            ],
            "text/plain": [
              "  Firstname Lastname Gender  SPOS  DSBDA     WT  DA\n",
              "0        LA      Roy      M  85.0   88.0   90.0  92\n",
              "1        SA    Dixit      F  90.0   90.0   94.0  95\n",
              "3        DA   Kapoor      M  95.0   86.0  500.0  82\n",
              "6        DY   Kapoor      M  81.0   80.0   96.0  89\n",
              "7        JK   Khanna      F  40.0   88.0   95.0  87"
            ]
          },
          "execution_count": 20,
          "metadata": {},
          "output_type": "execute_result"
        }
      ],
      "source": [
        "# Display the first 5 rows of the DataFrame by default\n",
        "# - head() method shows the first n rows (default n=5)\n",
        "# - Useful for quick inspection of data structure and content\n",
        "# - Shows column names and data types\n",
        "# - Helps verify data cleaning operations\n",
        "df.head()"
      ]
    },
    {
      "cell_type": "code",
      "execution_count": 21,
      "metadata": {},
      "outputs": [
        {
          "data": {
            "text/plain": [
              "(6, 7)"
            ]
          },
          "execution_count": 21,
          "metadata": {},
          "output_type": "execute_result"
        }
      ],
      "source": [
        "# Get the dimensions of the DataFrame\n",
        "# - Returns a tuple containing (rows, columns)\n",
        "# - First number represents total number of rows\n",
        "# - Second number represents total number of columns\n",
        "# - Useful for understanding the size and structure of the dataset\n",
        "df.shape"
      ]
    },
    {
      "cell_type": "code",
      "execution_count": 22,
      "metadata": {},
      "outputs": [
        {
          "data": {
            "text/plain": [
              "{'whiskers': [<matplotlib.lines.Line2D at 0x14b3ba780>,\n",
              "  <matplotlib.lines.Line2D at 0x14b3baae0>],\n",
              " 'caps': [<matplotlib.lines.Line2D at 0x14b3badb0>,\n",
              "  <matplotlib.lines.Line2D at 0x14b3bb0b0>],\n",
              " 'boxes': [<matplotlib.lines.Line2D at 0x14b3ba5d0>],\n",
              " 'medians': [<matplotlib.lines.Line2D at 0x14b3bb3b0>],\n",
              " 'fliers': [<matplotlib.lines.Line2D at 0x14b3bb680>],\n",
              " 'means': []}"
            ]
          },
          "execution_count": 22,
          "metadata": {},
          "output_type": "execute_result"
        },
        {
          "data": {
            "image/png": "[encoded data removed]",
            "text/plain": [
              "<Figure size 640x480 with 1 Axes>"
            ]
          },
          "metadata": {},
          "output_type": "display_data"
        }
      ],
      "source": [
        "# Create a box plot to visualize the distribution of SPOS scores\n",
        "# - x parameter specifies the data to plot (SPOS column from DataFrame)\n",
        "# - Box plot shows:\n",
        "#   * Median (middle line)\n",
        "#   * First and third quartiles (box)\n",
        "#   * Whiskers (extend to min/max excluding outliers)\n",
        "#   * Individual points represent outliers\n",
        "# - Useful for identifying:\n",
        "#   * Data distribution\n",
        "#   * Potential outliers\n",
        "#   * Data spread and skewness\n",
        "plt.boxplot(x=df['SPOS'])"
      ]
    },
    {
      "cell_type": "code",
      "execution_count": 25,
      "metadata": {},
      "outputs": [
        {
          "name": "stdout",
          "output_type": "stream",
          "text": [
            "  Firstname Lastname Gender  SPOS  DSBDA     WT  DA  SPOS_minmax  \\\n",
            "0        LA      Roy      M  85.0   88.0   90.0  92     0.882353   \n",
            "1        SA    Dixit      F  90.0   90.0   94.0  95     0.941176   \n",
            "3        DA   Kapoor      M  95.0   86.0  500.0  82     1.000000   \n",
            "6        DY   Kapoor      M  81.0   80.0   96.0  89     0.835294   \n",
            "7        JK   Khanna      F  40.0   88.0   95.0  87     0.352941   \n",
            "8        RT  Pardesi      M  10.0   96.0   94.0  88     0.000000   \n",
            "\n",
            "   DSBDA_minmax  WT_minmax  DA_minmax  \n",
            "0         0.500   0.000000   0.769231  \n",
            "1         0.625   0.009756   1.000000  \n",
            "3         0.375   1.000000   0.000000  \n",
            "6         0.000   0.014634   0.538462  \n",
            "7         0.500   0.012195   0.384615  \n",
            "8         1.000   0.009756   0.461538  \n"
          ]
        }
      ],
      "source": [
        "# 3---Define numeric columns for normalization\n",
        "# In this section, we performed data normalization using MinMax scaling on our academic dataset.\n",
        "# The process involved:\n",
        "# 1. Identifying numeric columns (SPOS, DSBDA, WT, DA) containing continuous academic scores\n",
        "# 2. Using MinMaxScaler to transform these values to a range between 0 and 1\n",
        "# 3. Creating new columns with '_minmax' suffix to store the normalized values\n",
        "# 4. Preserving the original data while adding the transformed values\n",
        "# This normalization helps in:\n",
        "# - Comparing different subjects' scores on the same scale\n",
        "# - Making the data more suitable for machine learning algorithms\n",
        "# - Reducing the impact of different score ranges across subjects\n",
        "# SPOS: System Programming and Operating System scores\n",
        "# DSBDA: Data Science and Big Data Analytics scores\n",
        "# WT: Web Technology scores\n",
        "# DA: Data Analytics scores\n",
        "# We'll use these columns for MinMax scaling to bring all values between 0 and 1\n",
        "numeric_columns = ['SPOS', 'DSBDA', 'WT', 'DA']  # These are your numeric columns from the academic data\n",
        "\n",
        "# Initialize MinMaxScaler to normalize data between 0 and 1\n",
        "# - MinMaxScaler transforms features by scaling each feature to a given range\n",
        "# - Default range is [0,1] which is suitable for our academic scores\n",
        "# - This helps in comparing different subjects' scores on the same scale\n",
        "# - Preserves the shape of the original distribution\n",
        "# - Formula: X_std = (X - X.min) / (X.max - X.min)\n",
        "# - X_scaled = X_std * (max - min) + min\n",
        "from sklearn.preprocessing import MinMaxScaler\n",
        "scaler = MinMaxScaler()\n",
        "df_transformed = df.copy()  # Create a copy of original dataframe\n",
        "scaled_data = scaler.fit_transform(df[numeric_columns])\n",
        "\n",
        "# Create new column names for transformed data\n",
        "transformed_columns = [col + '_minmax' for col in numeric_columns]\n",
        "\n",
        "# Add transformed data to dataframe\n",
        "df_transformed[transformed_columns] = scaled_data\n",
        "\n",
        "# Print to verify the transformation\n",
        "print(df_transformed)"
      ]
    },
    {
      "cell_type": "code",
      "execution_count": null,
      "metadata": {},
      "outputs": [
        {
          "name": "stdout",
          "output_type": "stream",
          "text": [
            "Data types of columns:\n",
            "SPOS     float64\n",
            "DSBDA    float64\n",
            "WT       float64\n",
            "DA        object\n",
            "dtype: object\n",
            "\n",
            "Transformed Data:\n",
            "  Firstname Lastname Gender  SPOS  DSBDA     WT  DA  SPOS_minmax  \\\n",
            "0        LA      Roy      M  85.0   88.0   90.0  92     0.882353   \n",
            "1        SA    Dixit      F  90.0   90.0   94.0  95     0.941176   \n",
            "3        DA   Kapoor      M  95.0   86.0  500.0  82     1.000000   \n",
            "6        DY   Kapoor      M  81.0   80.0   96.0  89     0.835294   \n",
            "7        JK   Khanna      F  40.0   88.0   95.0  87     0.352941   \n",
            "\n",
            "   DSBDA_minmax  WT_minmax  DA_minmax  SPOS_log  DSBDA_log    WT_log    DA_log  \n",
            "0         0.500   0.000000   0.769231  4.454347   4.488636  4.510860  4.532599  \n",
            "1         0.625   0.009756   1.000000  4.510860   4.510860  4.553877  4.564348  \n",
            "3         0.375   1.000000   0.000000  4.564348   4.465908  6.216606  4.418841  \n",
            "6         0.000   0.014634   0.538462  4.406719   4.394449  4.574711  4.499810  \n",
            "7         0.500   0.012195   0.384615  3.713572   4.488636  4.564348  4.477337  \n"
          ]
        }
      ],
      "source": [
        "# 3--Data Type Analysis and Log Transformation\n",
        "# In this section, we performed two important data preprocessing steps:\n",
        "# 1. Data Type Verification:\n",
        "#    - We first checked the data types of our numeric columns (SPOS, DSBDA, WT, DA)\n",
        "#    - This helps ensure our data is in the correct format for further processing\n",
        "# 2. Log Transformation:\n",
        "#    - We converted all columns to numeric type using pd.to_numeric()\n",
        "#    - Applied log1p transformation (log(1+x)) to handle:\n",
        "#      * Zero values in the data\n",
        "#      * Reduce skewness in the distribution\n",
        "#      * Make the data more normally distributed\n",
        "#      * Handle outliers by compressing the scale\n",
        "#    - Created new columns with '_log' suffix for transformed values\n",
        "# This process helps in:\n",
        "# - Normalizing the data distribution\n",
        "# - Making the data more suitable for statistical analysis\n",
        "# - Reducing the impact of extreme values\n",
        "# - Improving the performance of certain machine learning algorithms\n",
        "print(\"Data types of columns:\")\n",
        "print(df[numeric_columns].dtypes)\n",
        "\n",
        "# Convert columns to numeric type and handle log transformation\n",
        "for col in numeric_columns:\n",
        "    # Convert to numeric, coerce errors to NaN\n",
        "    df[col] = pd.to_numeric(df[col], errors='coerce')\n",
        "    \n",
        "    # Apply log transformation only to positive values\n",
        "    # Using log1p (log(1+x)) to handle zero values\n",
        "    df_transformed[f'{col}_log'] = np.log1p(df[col])\n",
        "\n",
        "# Print to verify transformation\n",
        "print(\"\\nTransformed Data:\")\n",
        "print(df_transformed.head())"
      ]
    }
  ],
  "metadata": {
    "colab": {
      "authorship_tag": "ABX9TyPCabucTToaeyp9H9XKn7xe",
      "include_colab_link": true,
      "name": "A2.ipynb",
      "provenance": []
    },
    "kernelspec": {
      "display_name": "base",
      "language": "python",
      "name": "python3"
    },
    "language_info": {
      "codemirror_mode": {
        "name": "ipython",
        "version": 3
      },
      "file_extension": ".py",
      "mimetype": "text/x-python",
      "name": "python",
      "nbconvert_exporter": "python",
      "pygments_lexer": "ipython3",
      "version": "3.12.7"
    }
  },
  "nbformat": 4,
  "nbformat_minor": 0
}
