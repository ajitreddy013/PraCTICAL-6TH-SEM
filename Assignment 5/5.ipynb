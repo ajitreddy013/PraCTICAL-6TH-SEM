{
 "cells": [
  {
   "cell_type": "code",
   "execution_count": 1,
   "id": "9fe0b003",
   "metadata": {},
   "outputs": [],
   "source": [
    "# Importing the required libraries for data analysis and visualization\n",
    "# numpy: For numerical computations and array operations\n",
    "# matplotlib.pyplot: For creating static visualizations and plots\n",
    "# pandas: For data manipulation and analysis\n",
    "import numpy as np\n",
    "import matplotlib.pyplot as plt\n",
    "import pandas as pd"
   ]
  },
  {
   "cell_type": "code",
   "execution_count": 2,
   "id": "a35ad919",
   "metadata": {},
   "outputs": [],
   "source": [
    "# Importing the dataset\n",
    "# Reading the social media dataset from CSV file\n",
    "# X contains features: Age and Estimated Salary\n",
    "# y contains target variable: Purchased (0 = No, 1 = Yes)\n",
    "dataset = pd.read_csv(\"Social_data.csv\")\n",
    "X = dataset.iloc[:, [2, 3]].values\n",
    "y = dataset.iloc[:, 4].values"
   ]
  },
  {
   "cell_type": "code",
   "execution_count": 3,
   "id": "2aabd25e",
   "metadata": {},
   "outputs": [],
   "source": [
    "# Splitting the dataset into the Training set and Test set\n",
    "# - Using train_test_split from sklearn.model_selection\n",
    "# - test_size=0.25 means 75% data for training, 25% for testing\n",
    "# - random_state=0 ensures reproducible results\n",
    "# - X_train, X_test: Features split for training and testing\n",
    "# - y_train, y_test: Target variables split for training and testing\n",
    "from sklearn.model_selection import train_test_split\n",
    "X_train, X_test, y_train, y_test = train_test_split(X, y, test_size = 0.25, random_state = 0)"
   ]
  },
  {
   "cell_type": "code",
   "execution_count": 4,
   "id": "dc44fe19",
   "metadata": {},
   "outputs": [],
   "source": [
    "# Feature Scaling\n",
    "# - StandardScaler is used to normalize features to have zero mean and unit variance\n",
    "# - This helps prevent features with larger scales from dominating the model\n",
    "# - fit_transform() computes mean and std for training data and applies transformation\n",
    "# - transform() applies the same transformation to test data using training data's parameters\n",
    "from sklearn.preprocessing import StandardScaler\n",
    "sc = StandardScaler()\n",
    "X_train = sc.fit_transform(X_train)\n",
    "X_test = sc.transform(X_test)"
   ]
  },
  {
   "cell_type": "code",
   "execution_count": null,
   "id": "3e81d2f3",
   "metadata": {},
   "outputs": [],
   "source": [
    "# Fitting Logistic Regression to the Training set\n",
    "# - Importing LogisticRegression from sklearn.linear_model\n",
    "# - Creating a LogisticRegression classifier with random_state=0 for reproducibility\n",
    "# - Fitting the model to the training data (X_train, y_train)\n",
    "# - The model learns the relationship between features (Age, Salary) and target (Purchased)\n",
    "from sklearn.linear_model import LogisticRegression\n",
    "log_reg = LogisticRegression(random_state = 0)\n",
    "log_reg.fit(X_train, y_train)"
   ]
  },
  {
   "cell_type": "code",
   "execution_count": 6,
   "id": "31b653d5",
   "metadata": {},
   "outputs": [],
   "source": [
    "# Predicting the test set results using the trained logistic regression model\n",
    "# - log_reg.predict() uses the fitted model to predict class labels (0 or 1) for test data\n",
    "# - X_test contains the scaled test features (Age and Salary)\n",
    "# - y_pred will contain predicted purchase decisions (0 = No, 1 = Yes)\n",
    "y_pred = log_reg.predict(X_test)"
   ]
  },
  {
   "cell_type": "code",
   "execution_count": 7,
   "id": "b8b5f133",
   "metadata": {},
   "outputs": [],
   "source": [
    "# Importing confusion_matrix from sklearn.metrics\n",
    "# - confusion_matrix is used to evaluate classification model performance\n",
    "# - It creates a matrix showing true positives, false positives, true negatives, and false negatives\n",
    "# - This helps in understanding where the model makes correct and incorrect predictions\n",
    "from sklearn.metrics import confusion_matrix\n",
    "cm = confusion_matrix(y_test, y_pred)"
   ]
  },
  {
   "cell_type": "code",
   "execution_count": null,
   "id": "81f6a796",
   "metadata": {},
   "outputs": [],
   "source": [
    "# Visualising the Training set results\n",
    "# - This code creates a visualization of the logistic regression model's decision boundary on the training data\n",
    "# - Uses meshgrid to create a grid of points covering the feature space\n",
    "# - Plots the decision boundary using contourf to show regions where the model predicts class 0 (red) or class 1 (green)\n",
    "# - Scatters the actual training data points, colored by their true class\n",
    "# - Adds appropriate labels, title, and legend for clear interpretation\n",
    "from matplotlib.colors import ListedColormap\n",
    "X_set, y_set = X_train, y_train\n",
    "X1, X2 = np.meshgrid(np.arange(start = X_set[:, 0].min() - 1, stop = X_set[:, 0].max() + 1, step = 0.01),\n",
    "                    np.arange(start = X_set[:, 1].min() - 1, stop = X_set[:, 1].max() + 1, step = 0.01))\n",
    "plt.contourf(X1, X2, log_reg.predict(np.array([X1.ravel(), X2.ravel()]).T).reshape(X1.shape),\n",
    "            alpha = 0.75, cmap = ListedColormap(('red', 'green')))\n",
    "plt.xlim(X1.min(), X1.max())\n",
    "plt.ylim(X2.min(), X2.max())\n",
    "for i, j in enumerate(np.unique(y_set)):\n",
    "   plt.scatter(X_set[y_set == j, 0], X_set[y_set == j, 1],\n",
    "               c = ListedColormap(('red', 'green'))(i), label = j)\n",
    "plt.title('Logistic Regression (Training set)')\n",
    "plt.xlabel('Age')\n",
    "plt.ylabel('Estimated Salary')\n",
    "plt.legend()\n",
    "plt.show()"
   ]
  },
  {
   "cell_type": "code",
   "execution_count": null,
   "id": "0e04bbbb",
   "metadata": {},
   "outputs": [],
   "source": [
    "# Visualising the Test set results\n",
    "# - This code creates a visualization of the logistic regression model's decision boundary on the test data\n",
    "# - Uses meshgrid to create a grid of points covering the feature space\n",
    "# - Plots the decision boundary using contourf to show regions where the model predicts class 0 (red) or class 1 (green)\n",
    "# - Scatters the actual test data points, colored by their true class\n",
    "# - Adds appropriate labels, title, and legend for clear interpretation\n",
    "# - This visualization helps evaluate how well the model generalizes to unseen data\n",
    "from matplotlib.colors import ListedColormap\n",
    "X_set, y_set = X_test, y_test\n",
    "X1, X2 = np.meshgrid(np.arange(start = X_set[:, 0].min() - 1, stop = X_set[:, 0].max() + 1, step = 0.01),\n",
    "                     np.arange(start = X_set[:, 1].min() - 1, stop = X_set[:, 1].max() + 1, step = 0.01))\n",
    "plt.contourf(X1, X2, log_reg.predict(np.array([X1.ravel(), X2.ravel()]).T).reshape(X1.shape),\n",
    "             alpha = 0.75, cmap = ListedColormap(('red', 'green')))\n",
    "plt.xlim(X1.min(), X1.max())\n",
    "plt.ylim(X2.min(), X2.max())\n",
    "for i, j in enumerate(np.unique(y_set)):\n",
    "    plt.scatter(X_set[y_set == j, 0], X_set[y_set == j, 1],\n",
    "                c = ListedColormap(('red', 'green'))(i), label = j)\n",
    "plt.title('Logistic Regression (Test set)')\n",
    "plt.xlabel('Age')\n",
    "plt.ylabel('Estimated Salary')\n",
    "plt.legend()\n",
    "plt.show()"
   ]
  },
  {
   "cell_type": "code",
   "execution_count": 10,
   "id": "1cd7f0aa",
   "metadata": {},
   "outputs": [],
   "source": [
    "# Logistic Regression\n",
    "# - This section implements a binary classification model using Logistic Regression\n",
    "# - The model predicts whether a customer will purchase a product based on their age and estimated salary\n",
    "# - Features (X): Age and Estimated Salary\n",
    "# - Target (y): Purchase decision (0 = No, 1 = Yes)\n",
    "# - The data is split into training and test sets for model evaluation\n",
    "# - Feature scaling is applied to normalize the input variables\n",
    "# - The model's performance is evaluated using confusion matrix and visualization\n",
    "\n",
    "X = dataset.iloc[:, [2, 3]].values\n",
    "y = dataset.iloc[:, 4].values"
   ]
  },
  {
   "cell_type": "code",
   "execution_count": 11,
   "id": "09e92640",
   "metadata": {},
   "outputs": [],
   "source": [
    "# Import train_test_split from scikit-learn's model_selection module\n",
    "# This function splits arrays or matrices into random train and test subsets\n",
    "# - X: Features array (Age and Estimated Salary)\n",
    "# - y: Target array (Purchase decision)\n",
    "# - test_size: Proportion of dataset to include in the test split (0.25 = 25%)\n",
    "# - random_state: Controls the shuffling of the data for reproducibility\n",
    "from sklearn.model_selection import train_test_split\n",
    "X_train, X_test, y_train, y_test = train_test_split(X, y, test_size = 0.25, random_state = 0)"
   ]
  },
  {
   "cell_type": "code",
   "execution_count": 12,
   "id": "c5cbebcd",
   "metadata": {},
   "outputs": [],
   "source": [
    "# Import StandardScaler from scikit-learn's preprocessing module\n",
    "# StandardScaler standardizes features by removing the mean and scaling to unit variance\n",
    "# This is crucial for logistic regression as it:\n",
    "# - Centers the data around zero\n",
    "# - Scales the features to have unit variance\n",
    "# - Helps prevent features with larger scales from dominating the model\n",
    "# - Improves convergence of the optimization algorithm\n",
    "from sklearn.preprocessing import StandardScaler\n",
    "sc = StandardScaler()\n",
    "X_train = sc.fit_transform(X_train)\n",
    "X_test = sc.transform(X_test)"
   ]
  },
  {
   "cell_type": "code",
   "execution_count": null,
   "id": "7cbeb194",
   "metadata": {},
   "outputs": [],
   "source": [
    "# Import LogisticRegression from scikit-learn's linear_model module\n",
    "# LogisticRegression is a linear model for binary classification that:\n",
    "# - Uses the logistic function (sigmoid) to model probability\n",
    "# - Estimates the probability of a binary outcome\n",
    "# - Provides linear decision boundaries\n",
    "# - Handles both binary and multi-class classification\n",
    "# - Supports various regularization methods (L1, L2, elastic net)\n",
    "from sklearn.linear_model import LogisticRegression\n",
    "log_reg = LogisticRegression(random_state = 0)\n",
    "log_reg.fit(X_train, y_train)"
   ]
  },
  {
   "cell_type": "code",
   "execution_count": 14,
   "id": "64fa0fdd",
   "metadata": {},
   "outputs": [],
   "source": [
    "# Make predictions on the test set using the trained logistic regression model\n",
    "# - X_test: Scaled test features (Age and Estimated Salary)\n",
    "# - y_pred: Predicted class labels (0 or 1) for each test sample\n",
    "# - log_reg.predict(): Returns the most likely class for each sample\n",
    "y_pred = log_reg.predict(X_test)"
   ]
  },
  {
   "cell_type": "code",
   "execution_count": 15,
   "id": "efbaad68",
   "metadata": {},
   "outputs": [],
   "source": [
    "# Import confusion_matrix from scikit-learn's metrics module\n",
    "# Confusion matrix is a performance measurement for machine learning classification problems\n",
    "# It shows:\n",
    "# - True Positives (correctly predicted positive class)\n",
    "# - True Negatives (correctly predicted negative class)\n",
    "# - False Positives (incorrectly predicted positive class)\n",
    "# - False Negatives (incorrectly predicted negative class)\n",
    "# This helps evaluate the model's accuracy and identify types of errors\n",
    "from sklearn.metrics import confusion_matrix\n",
    "cm = confusion_matrix(y_test, y_pred)"
   ]
  },
  {
   "cell_type": "code",
   "execution_count": null,
   "id": "0ae6e248",
   "metadata": {},
   "outputs": [],
   "source": [
    "# Import ListedColormap from matplotlib.colors\n",
    "# ListedColormap is used to create custom colormaps for visualization:\n",
    "# - Takes a list of colors as input\n",
    "# - Creates a colormap object that maps values to colors\n",
    "# - Useful for creating discrete color schemes\n",
    "# - In this case, used to create a binary colormap (red and green) for classification visualization\n",
    "from matplotlib.colors import ListedColormap\n",
    "X_set, y_set = X_train, y_train\n",
    "X1, X2 = np.meshgrid(np.arange(start = X_set[:, 0].min() - 1, stop = X_set[:, 0].max() + 1, step = 0.01),\n",
    "                     np.arange(start = X_set[:, 1].min() - 1, stop = X_set[:, 1].max() + 1, step = 0.01))\n",
    "plt.contourf(X1, X2, log_reg.predict(np.array([X1.ravel(), X2.ravel()]).T).reshape(X1.shape),\n",
    "             alpha = 0.75, cmap = ListedColormap(('red', 'green')))\n",
    "plt.xlim(X1.min(), X1.max())\n",
    "plt.ylim(X2.min(), X2.max())\n",
    "for i, j in enumerate(np.unique(y_set)):\n",
    "    plt.scatter(X_set[y_set == j, 0], X_set[y_set == j, 1],\n",
    "                c = ListedColormap(('red', 'green'))(i), label = j)\n",
    "plt.title('Logistic Regression (Training set)')\n",
    "plt.xlabel('Age')\n",
    "plt.ylabel('Estimated Salary')\n",
    "plt.legend()\n",
    "plt.show()"
   ]
  },
  {
   "cell_type": "code",
   "execution_count": null,
   "id": "f996f19d",
   "metadata": {},
   "outputs": [],
   "source": [
    "# Import ListedColormap from matplotlib.colors\n",
    "# ListedColormap is used to create custom colormaps for visualization:\n",
    "# - Takes a list of colors as input\n",
    "# - Creates a colormap object that maps values to colors\n",
    "# - Useful for creating discrete color schemes\n",
    "# - In this case, used to create a binary colormap (red and green) for classification visualization\n",
    "from matplotlib.colors import ListedColormap\n",
    "X_set, y_set = X_test, y_test\n",
    "X1, X2 = np.meshgrid(np.arange(start = X_set[:, 0].min() - 1, stop = X_set[:, 0].max() + 1, step = 0.01),\n",
    "                     np.arange(start = X_set[:, 1].min() - 1, stop = X_set[:, 1].max() + 1, step = 0.01))\n",
    "plt.contourf(X1, X2, log_reg.predict(np.array([X1.ravel(), X2.ravel()]).T).reshape(X1.shape),\n",
    "             alpha = 0.75, cmap = ListedColormap(('red', 'green')))\n",
    "plt.xlim(X1.min(), X1.max())\n",
    "plt.ylim(X2.min(), X2.max())\n",
    "for i, j in enumerate(np.unique(y_set)):\n",
    "    plt.scatter(X_set[y_set == j, 0], X_set[y_set == j, 1],\n",
    "                c = ListedColormap(('red', 'green'))(i), label = j)\n",
    "plt.title('Logistic Regression (Test set)')\n",
    "plt.xlabel('Age')\n",
    "plt.ylabel('Estimated Salary')\n",
    "plt.legend()\n",
    "plt.show()\n"
   ]
  }
 ],
 "metadata": {
  "kernelspec": {
   "display_name": "base",
   "language": "python",
   "name": "python3"
  },
  "language_info": {
   "codemirror_mode": {
    "name": "ipython",
    "version": 3
   },
   "file_extension": ".py",
   "mimetype": "text/x-python",
   "name": "python",
   "nbconvert_exporter": "python",
   "pygments_lexer": "ipython3",
   "version": "3.12.7"
  }
 },
 "nbformat": 4,
 "nbformat_minor": 5
}
