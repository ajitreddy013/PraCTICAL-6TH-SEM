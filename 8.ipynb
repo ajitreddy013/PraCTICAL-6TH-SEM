{
 "cells": [
  {
   "cell_type": "code",
   "execution_count": 1,
   "id": "410e418d",
   "metadata": {},
   "outputs": [],
   "source": [
    "# Import essential data analysis and visualization libraries\n",
    "import pandas as pd  # For data manipulation and analysis\n",
    "import numpy as np   # For numerical computations\n",
    "import matplotlib.pyplot as plt  # For creating static, animated, and interactive visualizations\n",
    "import seaborn as sns  # For statistical data visualization built on top of matplotlib"
   ]
  },
  {
   "cell_type": "code",
   "execution_count": null,
   "id": "03ab9d39",
   "metadata": {},
   "outputs": [],
   "source": [
    "# Load the Titanic dataset from seaborn's built-in datasets\n",
    "# This dataset contains information about passengers on the Titanic including survival status, class, age, fare, etc.\n",
    "dataset = sns.load_dataset('titanic')\n",
    "dataset.head()"
   ]
  },
  {
   "cell_type": "code",
   "execution_count": null,
   "id": "5c7e4e1b",
   "metadata": {},
   "outputs": [],
   "source": [
    "# Create a distribution plot of fare prices using seaborn\n",
    "# This will show both the histogram and kernel density estimate (KDE) by default\n",
    "# The KDE provides a smooth estimate of the probability density function\n",
    "sns.distplot(dataset['fare'])"
   ]
  },
  {
   "cell_type": "code",
   "execution_count": null,
   "id": "d23e969b",
   "metadata": {},
   "outputs": [],
   "source": [
    "# Create a distribution plot of fare prices using seaborn, showing only the histogram without KDE\n",
    "# This helps visualize the frequency distribution of fare prices in a simpler way\n",
    "# kde=False removes the kernel density estimate overlay\n",
    "sns.distplot(dataset['fare'], kde=False)"
   ]
  },
  {
   "cell_type": "code",
   "execution_count": null,
   "id": "46717f2f",
   "metadata": {},
   "outputs": [],
   "source": [
    "# The bins parameter controls the number of intervals (or bars) in the histogram\n",
    "# A higher number of bins shows more detail but can make the plot noisy\n",
    "# A lower number of bins provides a clearer overview but may hide some patterns\n",
    "# The default value is typically 10 bins, but you can adjust it based on your data and visualization needs\n",
    "sns.jointplot(x='age', y='fare', data=dataset)\n"
   ]
  },
  {
   "cell_type": "code",
   "execution_count": null,
   "id": "f73283f5",
   "metadata": {},
   "outputs": [],
   "source": [
    "# Create a distribution plot of fare prices with 10 bins and no KDE\n",
    "# This provides a clear view of fare price distribution with a moderate level of detail\n",
    "# The bins=10 parameter creates 10 equal-width intervals for the histogram\n",
    "# kde=False removes the kernel density estimate for a cleaner histogram view\n",
    "sns.distplot(dataset['fare'], kde=False, bins=10)"
   ]
  },
  {
   "cell_type": "code",
   "execution_count": null,
   "id": "7cff82d5",
   "metadata": {},
   "outputs": [],
   "source": [
    "# Create a hexbin joint plot to visualize the relationship between age and fare\n",
    "# kind='hex' creates hexagonal bins that show the density of points\n",
    "# This is useful for large datasets as it helps visualize the concentration of data points\n",
    "# Darker hexagons indicate higher density of passenger data points\n",
    "sns.jointplot(x='age', y='fare', data=dataset, kind='hex')"
   ]
  },
  {
   "cell_type": "code",
   "execution_count": null,
   "id": "ada6b946",
   "metadata": {},
   "outputs": [],
   "source": [
    "# The pairplot() function creates a grid of scatter plots showing relationships between all pairs of numerical variables\n",
    "# It also includes histograms along the diagonal to show the distribution of each variable\n",
    "# The hue parameter colors the points based on the 'sex' column, making it easy to see patterns between genders\n",
    "# This visualization helps identify correlations and patterns across multiple variables simultaneously\n",
    "dataset = dataset.dropna()\n",
    "sns.pairplot(dataset, hue='sex')"
   ]
  },
  {
   "cell_type": "code",
   "execution_count": null,
   "id": "7b2abda0",
   "metadata": {},
   "outputs": [],
   "source": [
    "# The rugplot() function creates a rug plot, which displays individual data points as small vertical bars along the x-axis\n",
    "# This visualization helps show the exact distribution of fare prices in the dataset\n",
    "# Each vertical bar represents a single passenger's fare, making it easy to see clusters and gaps in the data\n",
    "# Rug plots are often used in combination with other plots like histograms or KDE plots to provide additional detail\n",
    "sns.rugplot(dataset['fare'])"
   ]
  }
 ],
 "metadata": {
  "kernelspec": {
   "display_name": "base",
   "language": "python",
   "name": "python3"
  },
  "language_info": {
   "codemirror_mode": {
    "name": "ipython",
    "version": 3
   },
   "file_extension": ".py",
   "mimetype": "text/x-python",
   "name": "python",
   "nbconvert_exporter": "python",
   "pygments_lexer": "ipython3",
   "version": "3.12.7"
  }
 },
 "nbformat": 4,
 "nbformat_minor": 5
}
