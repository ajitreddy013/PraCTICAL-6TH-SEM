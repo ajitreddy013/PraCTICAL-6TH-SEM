{
 "cells": [
  {
   "cell_type": "code",
   "execution_count": 1,
   "id": "194efe48",
   "metadata": {},
   "outputs": [],
   "source": [
    "# Import numpy for numerical operations and array handling\n",
    "import numpy as np\n",
    "# Import pandas for data manipulation and analysis\n",
    "import pandas as pd\n",
    "# Import array specifically from numpy for direct array creation\n",
    "from numpy import array"
   ]
  },
  {
   "cell_type": "code",
   "execution_count": 2,
   "id": "9f6f1b1d",
   "metadata": {},
   "outputs": [],
   "source": [
    "# Read the Iris dataset from CSV file into a pandas DataFrame\n",
    "# The dataset contains measurements of iris flowers including sepal and petal dimensions\n",
    "df = pd.read_csv(\"Iris (1).csv\")"
   ]
  },
  {
   "cell_type": "code",
   "execution_count": null,
   "id": "b857a323",
   "metadata": {},
   "outputs": [],
   "source": [
    "# Display the first 5 rows of the DataFrame to get an overview of the data structure\n",
    "# This helps in understanding the column names, data types, and sample values\n",
    "df.head()"
   ]
  },
  {
   "cell_type": "code",
   "execution_count": null,
   "id": "3037983c",
   "metadata": {},
   "outputs": [],
   "source": [
    "# Calculate the number of columns in the DataFrame by converting it to a list and getting its length\n",
    "# This gives us the dimensionality of our dataset in terms of features/attributes\n",
    "column = len(list(df))\n",
    "# Print the number of columns in the DataFrame\n",
    "# This helps understand the dimensionality of the dataset\n",
    "column"
   ]
  },
  {
   "cell_type": "code",
   "execution_count": null,
   "id": "9f9a60da",
   "metadata": {},
   "outputs": [],
   "source": [
    "# Display detailed information about the DataFrame including:\n",
    "# - Number of rows and columns\n",
    "# - Column names and their data types\n",
    "# - Memory usage\n",
    "# - Number of non-null values in each column\n",
    "# This helps in understanding the data structure and identifying any missing values\n",
    "df.info()"
   ]
  },
  {
   "cell_type": "code",
   "execution_count": null,
   "id": "155d500a",
   "metadata": {},
   "outputs": [],
   "source": [
    "# Get unique values in the \"Species\" column to identify distinct iris flower types\n",
    "# This helps understand the different classes/categories in our dataset\n",
    "np.unique(df[\"Species\"])\n",
    "array(['Iris-setosa', 'Iris-versicolor', 'Iris-virginica'], dtype=object)"
   ]
  },
  {
   "cell_type": "code",
   "execution_count": null,
   "id": "a85dec73",
   "metadata": {},
   "outputs": [],
   "source": [
    "# Generate descriptive statistics for the DataFrame including:\n",
    "# - Count: Number of non-null values\n",
    "# - Mean: Average value\n",
    "# - Std: Standard deviation\n",
    "# - Min: Minimum value\n",
    "# - 25%: First quartile\n",
    "# - 50%: Median (second quartile)\n",
    "# - 75%: Third quartile\n",
    "# - Max: Maximum value\n",
    "# This helps understand the distribution and range of values in each numeric column\n",
    "df.describe()"
   ]
  },
  {
   "cell_type": "code",
   "execution_count": 8,
   "id": "46179011",
   "metadata": {},
   "outputs": [],
   "source": [
    "# Import seaborn for statistical data visualization\n",
    "# Seaborn provides a high-level interface for drawing attractive and informative statistical graphics\n",
    "import seaborn as sns\n",
    "\n",
    "# Import matplotlib for basic plotting functionality\n",
    "# Matplotlib is a comprehensive library for creating static, animated, and interactive visualizations\n",
    "import matplotlib\n",
    "\n",
    "# Import pyplot from matplotlib for MATLAB-like plotting interface\n",
    "# Pyplot provides a convenient interface to the matplotlib object-oriented plotting library\n",
    "import matplotlib.pyplot as plt\n",
    "%matplotlib inline"
   ]
  },
  {
   "cell_type": "code",
   "execution_count": 9,
   "id": "3a00295f",
   "metadata": {},
   "outputs": [],
   "source": [
    "# Create a figure with a 2x2 grid of subplots\n",
    "# - figsize=(16, 8) sets the figure size to 16 inches wide and 8 inches tall\n",
    "# - This creates a 2x2 grid of axes objects that we can use to plot different histograms\n",
    "fig, axes = plt.subplots(2, 2, figsize=(16, 8))\n",
    "axes[0,0].set_title(\"Distribution of First Column\")\n",
    "axes[0,0].hist(df[\"SepalLengthCm\"]);\n",
    "\n",
    "axes[0,1].set_title(\"Distribution of Second Column\")\n",
    "axes[0,1].hist(df[\"SepalWidthCm\"]);\n",
    "\n",
    "axes[1,0].set_title(\"Distribution of Third Column\")\n",
    "axes[1,0].hist(df[\"PetalLengthCm\"]);\n",
    "\n",
    "axes[1,1].set_title(\"Distribution of Fourth Column\")\n",
    "axes[1,1].hist(df[\"PetalWidthCm\"]);\n"
   ]
  },
  {
   "cell_type": "code",
   "execution_count": 10,
   "id": "70e16528",
   "metadata": {},
   "outputs": [],
   "source": [
    "# Create a list of pandas Series containing the four numeric columns from the Iris dataset\n",
    "# This list will be used to create boxplots showing the distribution of each feature\n",
    "# The order is: Sepal Length, Sepal Width, Petal Length, Petal Width\n",
    "data_to_plot = [df[\"SepalLengthCm\"], df[\"SepalWidthCm\"], df[\"PetalLengthCm\"], df[\"PetalWidthCm\"]]\n",
    "sns.set_style(\"whitegrid\")"
   ]
  },
  {
   "cell_type": "code",
   "execution_count": 11,
   "id": "7d7f3386",
   "metadata": {},
   "outputs": [],
   "source": [
    "# Creating a figure instance\n",
    "# Create a new figure with ID 1 and dimensions 12x8 inches\n",
    "# - figure(1) creates a new figure with ID 1, which can be referenced later\n",
    "# - figsize=(12,8) sets the width to 12 inches and height to 8 inches\n",
    "# - This provides enough space for the boxplot visualization while maintaining readability\n",
    "fig = plt.figure(1, figsize=(12,8))\n",
    "\n",
    "# Creating an axes instance\n",
    "ax = fig.add_subplot(111)\n",
    "\n",
    "# Creating the boxplot\n",
    "bp = ax.boxplot(data_to_plot);\n"
   ]
  }
 ],
 "metadata": {
  "kernelspec": {
   "display_name": "base",
   "language": "python",
   "name": "python3"
  },
  "language_info": {
   "codemirror_mode": {
    "name": "ipython",
    "version": 3
   },
   "file_extension": ".py",
   "mimetype": "text/x-python",
   "name": "python",
   "nbconvert_exporter": "python",
   "pygments_lexer": "ipython3",
   "version": "3.12.7"
  }
 },
 "nbformat": 4,
 "nbformat_minor": 5
}
