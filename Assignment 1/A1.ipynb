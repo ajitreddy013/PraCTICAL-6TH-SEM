{
 "cells": [
  {
   "cell_type": "code",
   "execution_count": 50,
   "metadata": {},
   "outputs": [],
   "source": [
    "# Import required libraries\n",
    "# pandas: for data manipulation and analysis\n",
    "# numpy: for numerical operations\n",
    "import pandas as pd\n",
    "import numpy as np"
   ]
  },
  {
   "cell_type": "code",
   "execution_count": 51,
   "metadata": {},
   "outputs": [],
   "source": [
    "# Read the CSV file into a pandas DataFrame\n",
    "# This loads the data from 'data.csv' into a DataFrame named 'df'\n",
    "df=pd.read_csv('data.csv')"
   ]
  },
  {
   "cell_type": "code",
   "execution_count": null,
   "metadata": {},
   "outputs": [],
   "source": [
    "# Display the data types of each column in the DataFrame\n",
    "# This shows whether each column contains integers, floats, or strings\n",
    "df.dtypes"
   ]
  },
  {
   "cell_type": "code",
   "execution_count": null,
   "metadata": {},
   "outputs": [],
   "source": [
    "# Generate descriptive statistics for the DataFrame\n",
    "# This includes count, mean, standard deviation, min, 25th percentile, \n",
    "# median (50th percentile), 75th percentile, and max for each numeric column\n",
    "df.describe()"
   ]
  },
  {
   "cell_type": "code",
   "execution_count": null,
   "metadata": {},
   "outputs": [],
   "source": [
    "# Group the data by Age and count the frequency of each age\n",
    "# This shows how many patients are in each age group\n",
    "df.groupby(by=['Age']).size()"
   ]
  },
  {
   "cell_type": "code",
   "execution_count": null,
   "metadata": {},
   "outputs": [],
   "source": [
    "# Check for missing values (NaN) in each column\n",
    "# Returns the count of missing values for each column\n",
    "df.isna().sum()"
   ]
  },
  {
   "cell_type": "code",
   "execution_count": null,
   "metadata": {},
   "outputs": [],
   "source": [
    "# Display all rows where values are null (missing)\n",
    "# Returns a boolean DataFrame showing True for missing values\n",
    "df.isnull()"
   ]
  },
  {
   "cell_type": "code",
   "execution_count": null,
   "metadata": {},
   "outputs": [],
   "source": [
    "# Check the data type of the string \"Age\"\n",
    "type(\"Age\")\n",
    "# Check the data type of the string \"BMI\"\n",
    "type(\"BMI\")\n",
    "# Convert the Age column to float type for numerical operations\n",
    "df.Age.astype(float)"
   ]
  },
  {
   "cell_type": "code",
   "execution_count": 58,
   "metadata": {},
   "outputs": [],
   "source": [
    "# Convert the Age column to float type\n",
    "# This ensures consistent data type for age values\n",
    "df.Age= df.Age.astype(float)"
   ]
  },
  {
   "cell_type": "code",
   "execution_count": null,
   "metadata": {},
   "outputs": [],
   "source": [
    "# Sort the DataFrame by Age in ascending order\n",
    "# This arranges the data from youngest to oldest patient\n",
    "df.sort_values('Age')"
   ]
  },
  {
   "cell_type": "code",
   "execution_count": null,
   "metadata": {},
   "outputs": [],
   "source": [
    "# Sort the DataFrame by Age in descending order\n",
    "# This arranges the data from oldest to youngest patient\n",
    "df.sort_values('Age',ascending=False)"
   ]
  },
  {
   "cell_type": "code",
   "execution_count": null,
   "metadata": {},
   "outputs": [],
   "source": [
    "# Rename the 'Age' column to 'Year Old'\n",
    "# Note: This creates a new DataFrame with the renamed column\n",
    "df.rename(columns={'Age':'Year Old'})"
   ]
  },
  {
   "cell_type": "code",
   "execution_count": null,
   "metadata": {},
   "outputs": [],
   "source": [
    "# Sort the DataFrame by index in ascending order\n",
    "# This arranges the data based on the original row order\n",
    "df.sort_index()"
   ]
  },
  {
   "cell_type": "code",
   "execution_count": null,
   "metadata": {},
   "outputs": [],
   "source": [
    "# Reset the index of the DataFrame\n",
    "# This creates a new column 'index' with the original row numbers\n",
    "df.reset_index()"
   ]
  },
  {
   "cell_type": "code",
   "execution_count": null,
   "metadata": {},
   "outputs": [],
   "source": [
    "# Drop the 'Age' column from the DataFrame\n",
    "# This removes the Age column while keeping all other columns\n",
    "df.drop(columns=['Age'])"
   ]
  },
  {
   "cell_type": "code",
   "execution_count": null,
   "metadata": {},
   "outputs": [],
   "source": [
    "# Reshape the DataFrame from wide to long format\n",
    "# This converts the DataFrame to have one row per variable-value pair\n",
    "pd.melt(df)"
   ]
  },
  {
   "cell_type": "code",
   "execution_count": null,
   "metadata": {},
   "outputs": [],
   "source": [
    "# Remove duplicate rows from the DataFrame\n",
    "# This keeps only unique combinations of all columns\n",
    "df.drop_duplicates()"
   ]
  },
  {
   "cell_type": "code",
   "execution_count": null,
   "metadata": {},
   "outputs": [],
   "source": [
    "# Display the first 5 rows of the DataFrame\n",
    "# This shows the initial 5 records in the dataset\n",
    "df.head(5)\n",
    "\n",
    "# Display the last 5 rows of the DataFrame\n",
    "# This shows the final 5 records in the dataset\n",
    "df.tail(5)"
   ]
  },
  {
   "cell_type": "code",
   "execution_count": null,
   "metadata": {},
   "outputs": [],
   "source": [
    "# Count the number of non-null values in each column\n",
    "# This shows how many valid entries exist for each variable\n",
    "df.count(0)"
   ]
  },
  {
   "cell_type": "code",
   "execution_count": null,
   "metadata": {},
   "outputs": [],
   "source": [
    "for col in df.columns:\n",
    "    print(f\"Unique values in {col}:{df[col].unique()}\")"
   ]
  },
  {
   "cell_type": "code",
   "execution_count": null,
   "metadata": {},
   "outputs": [],
   "source": [
    "# Calculate quantiles for numeric columns only\n",
    "# This computes the quartiles (25th, 50th, 75th percentiles) for numeric data\n",
    "# The numeric_only=True parameter excludes non-numeric columns like 'Classification'\n",
    "df.quantile(numeric_only=True)"
   ]
  },
  {
   "cell_type": "code",
   "execution_count": null,
   "metadata": {},
   "outputs": [],
   "source": [
    "# Calculate the median (50th percentile) for numeric columns\n",
    "# This computes the middle value for each numeric variable\n",
    "# The numeric_only=True parameter excludes non-numeric columns\n",
    "df.quantile(numeric_only=True)"
   ]
  },
  {
   "cell_type": "code",
   "execution_count": null,
   "metadata": {},
   "outputs": [],
   "source": [
    "# Calculate the minimum value for each column in the DataFrame\n",
    "# This shows the smallest value present in each variable\n",
    "df.min()"
   ]
  },
  {
   "cell_type": "code",
   "execution_count": null,
   "metadata": {},
   "outputs": [],
   "source": [
    "# Calculate the maximum value for each column in the DataFrame\n",
    "# This shows the largest value present in each variable\n",
    "df.max()"
   ]
  },
  {
   "cell_type": "code",
   "execution_count": null,
   "metadata": {},
   "outputs": [],
   "source": [
    "# Print unique values for each column in the DataFrame\n",
    "# This helps identify distinct categories and potential data quality issues\n",
    "for col in df.columns:\n",
    "    print(f\"Unique values in {col}:{df[col].unique()}\")"
   ]
  },
  {
   "cell_type": "code",
   "execution_count": null,
   "metadata": {},
   "outputs": [],
   "source": [
    "# Calculate the mean (average) for numeric columns only\n",
    "# This computes the arithmetic mean for each numeric variable\n",
    "# The numeric_only=True parameter excludes non-numeric columns\n",
    "df.mean(numeric_only=True)"
   ]
  },
  {
   "cell_type": "code",
   "execution_count": null,
   "metadata": {},
   "outputs": [],
   "source": [
    "# Calculate the mean (average) for numeric columns only\n",
    "# This computes the arithmetic mean for each numeric variable\n",
    "# The numeric_only=True parameter excludes non-numeric columns\n",
    "df.mean(numeric_only=True)"
   ]
  },
  {
   "cell_type": "code",
   "execution_count": 77,
   "metadata": {},
   "outputs": [],
   "source": [
    "# Convert all columns to numeric type, replacing non-numeric values with NaN\n",
    "df = df.apply(pd.to_numeric, errors='coerce')"
   ]
  },
  {
   "cell_type": "code",
   "execution_count": null,
   "metadata": {},
   "outputs": [],
   "source": [
    "# Calculate the standard deviation for each column in the DataFrame\n",
    "# This measures the spread/dispersion of values around the mean\n",
    "df.std()"
   ]
  },
  {
   "cell_type": "code",
   "execution_count": null,
   "metadata": {},
   "outputs": [],
   "source": [
    "# Convert Age column to dummy variables (one-hot encoding)\n",
    "# This creates binary columns for each unique age value\n",
    "pd.get_dummies(df['Age'])"
   ]
  },
  {
   "cell_type": "code",
   "execution_count": null,
   "metadata": {},
   "outputs": [],
   "source": [
    "pd.get_dummies(df['Glucose'])\n",
    "# Convert Glucose column to dummy variables (one-hot encoding)\n",
    "# This creates binary columns for each unique glucose value\n"
   ]
  },
  {
   "cell_type": "code",
   "execution_count": null,
   "metadata": {},
   "outputs": [],
   "source": [
    "# Convert Glucose column to dummy variables (one-hot encoding)\n",
    "# This creates binary columns for each unique glucose value\n",
    "print(pd.get_dummies(df['Glucose']))"
   ]
  },
  {
   "cell_type": "code",
   "execution_count": null,
   "metadata": {},
   "outputs": [],
   "source": [
    "# Select rows 2 through 49 (inclusive) from the DataFrame\n",
    "# This returns a subset of the data containing 48 rows\n",
    "df.iloc[2:50]"
   ]
  }
 ],
 "metadata": {
  "kernelspec": {
   "display_name": "base",
   "language": "python",
   "name": "python3"
  },
  "language_info": {
   "codemirror_mode": {
    "name": "ipython",
    "version": 3
   },
   "file_extension": ".py",
   "mimetype": "text/x-python",
   "name": "python",
   "nbconvert_exporter": "python",
   "pygments_lexer": "ipython3",
   "version": "3.12.7"
  }
 },
 "nbformat": 4,
 "nbformat_minor": 2
}
