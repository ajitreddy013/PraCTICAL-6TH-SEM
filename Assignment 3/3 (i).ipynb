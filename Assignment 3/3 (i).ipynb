{
 "cells": [
  {
   "cell_type": "code",
   "execution_count": 2,
   "id": "77a543f4",
   "metadata": {},
   "outputs": [],
   "source": [
    "# Import pandas library for data manipulation and analysis\n",
    "# pandas is commonly used for working with structured data like CSV files\n",
    "import pandas as pd"
   ]
  },
  {
   "cell_type": "code",
   "execution_count": null,
   "id": "5b01875f",
   "metadata": {},
   "outputs": [],
   "source": [
    "# Read the Iris dataset from CSV file into a pandas DataFrame\n",
    "# This dataset contains measurements of different Iris flower species\n",
    "data = pd.read_csv(\"Iris.csv\")\n",
    "# Print the name of the first Iris species (Iris-setosa) to separate output sections\n",
    "print('Iris-setosa')"
   ]
  },
  {
   "cell_type": "code",
   "execution_count": null,
   "id": "be53de8c",
   "metadata": {},
   "outputs": [],
   "source": [
    "# Create a boolean mask to filter data for Iris-setosa species\n",
    "# This creates a Series where True indicates rows where Species is 'Iris-setosa'\n",
    "setosa = data['Species'] == 'Iris-setosa'\n",
    "print(data[setosa].describe())"
   ]
  },
  {
   "cell_type": "code",
   "execution_count": null,
   "id": "ba073165",
   "metadata": {},
   "outputs": [],
   "source": [
    "# Print a header for Iris-versicolor species analysis\n",
    "# This helps separate the statistical output for different Iris species\n",
    "print('\\nIris-versicolor')\n",
    "setosa = data['Species'] == 'Iris-versicolor'\n",
    "print(data[setosa].describe())\n",
    "\n"
   ]
  },
  {
   "cell_type": "code",
   "execution_count": null,
   "id": "9e5ba05c",
   "metadata": {},
   "outputs": [],
   "source": [
    "print('\\nIris-virginica')\n",
    "# Create a boolean mask to filter data for Iris-virginica species\n",
    "# This creates a Series where True indicates rows where Species is 'Iris-virginica'\n",
    "setosa = data['Species'] == 'Iris-virginica'\n",
    "print(data[setosa].describe())\n"
   ]
  }
 ],
 "metadata": {
  "kernelspec": {
   "display_name": "base",
   "language": "python",
   "name": "python3"
  },
  "language_info": {
   "codemirror_mode": {
    "name": "ipython",
    "version": 3
   },
   "file_extension": ".py",
   "mimetype": "text/x-python",
   "name": "python",
   "nbconvert_exporter": "python",
   "pygments_lexer": "ipython3",
   "version": "3.12.7"
  }
 },
 "nbformat": 4,
 "nbformat_minor": 5
}
