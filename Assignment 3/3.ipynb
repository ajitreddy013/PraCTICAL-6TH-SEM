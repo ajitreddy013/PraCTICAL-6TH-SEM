{
 "cells": [
  {
   "cell_type": "code",
   "execution_count": 20,
   "id": "01496bfb",
   "metadata": {},
   "outputs": [],
   "source": [
    "# Import required libraries for data analysis\n",
    "import pandas as pd  # For data manipulation and analysis\n",
    "import numpy as np   # For numerical operations and array handling\n",
    "import statistics as st  # For statistical functions"
   ]
  },
  {
   "cell_type": "code",
   "execution_count": 21,
   "id": "11bf972f",
   "metadata": {},
   "outputs": [],
   "source": [
    "# Read the loan dataset from CSV file into a pandas DataFrame\n",
    "# This will load the data for further analysis and processing\n",
    "df = pd.read_csv(\"loan.csv\")"
   ]
  },
  {
   "cell_type": "code",
   "execution_count": null,
   "id": "051edb1e",
   "metadata": {},
   "outputs": [],
   "source": [
    "# Print the dimensions of the DataFrame (rows, columns)\n",
    "# This shows the total number of rows and columns in the dataset\n",
    "print(df.shape)"
   ]
  },
  {
   "cell_type": "code",
   "execution_count": null,
   "id": "a7e9bd02",
   "metadata": {},
   "outputs": [],
   "source": [
    "# Display detailed information about the DataFrame including:\n",
    "# - Data types of each column\n",
    "# - Number of non-null values\n",
    "# - Memory usage\n",
    "# - Index information\n",
    "print(df.info())"
   ]
  },
  {
   "cell_type": "code",
   "execution_count": null,
   "id": "f96c3546",
   "metadata": {},
   "outputs": [],
   "source": [
    "# Convert all columns to numeric type, replacing non-numeric values with NaN\n",
    "# This ensures consistent data types for statistical calculations\n",
    "# The 'coerce' parameter handles invalid values by converting them to NaN\n",
    "df = df.apply(pd.to_numeric, errors='coerce')\n",
    "df.mean()"
   ]
  },
  {
   "cell_type": "code",
   "execution_count": null,
   "id": "20ee56e7",
   "metadata": {},
   "outputs": [],
   "source": [
    "# Calculate the maximum value for each numeric column in the DataFrame\n",
    "# This returns a Series containing the highest value found in each column\n",
    "df.max()"
   ]
  },
  {
   "cell_type": "code",
   "execution_count": null,
   "id": "cf428baf",
   "metadata": {},
   "outputs": [],
   "source": [
    "# Calculate the minimum value for each numeric column in the DataFrame\n",
    "# This returns a Series containing the lowest value found in each column\n",
    "df.min()"
   ]
  },
  {
   "cell_type": "code",
   "execution_count": null,
   "id": "8983f5ac",
   "metadata": {},
   "outputs": [],
   "source": [
    "# Calculate the median value for each numeric column in the DataFrame\n",
    "# This returns a Series containing the middle value of each column when sorted\n",
    "# The median is less sensitive to outliers than the mean\n",
    "df.median()"
   ]
  },
  {
   "cell_type": "code",
   "execution_count": null,
   "id": "3b10f281",
   "metadata": {},
   "outputs": [],
   "source": [
    "# Calculate the standard deviation for each numeric column in the DataFrame\n",
    "# This returns a Series containing the measure of spread/dispersion for each column\n",
    "# Standard deviation indicates how much the values deviate from the mean\n",
    "df.std()"
   ]
  },
  {
   "cell_type": "code",
   "execution_count": null,
   "id": "9f90b9d6",
   "metadata": {},
   "outputs": [],
   "source": [
    "# Calculate the mean value of the 'LoanAmount' column\n",
    "# Using loc accessor to select the specific column\n",
    "# This provides a measure of central tendency for loan amounts\n",
    "print(df.loc[:,'LoanAmount'].mean())"
   ]
  },
  {
   "cell_type": "code",
   "execution_count": null,
   "id": "408fa02c",
   "metadata": {},
   "outputs": [],
   "source": [
    "# Calculate the mean value for each row (axis=1) and display the first 5 rows\n",
    "# This provides the average value across all numeric columns for each individual record\n",
    "# The [0:5] slice limits the output to the first 5 rows for better readability\n",
    "df.mean(axis = 1)[0:5]"
   ]
  },
  {
   "cell_type": "code",
   "execution_count": null,
   "id": "b9ccf61a",
   "metadata": {},
   "outputs": [],
   "source": [
    "# Calculate the median value of the 'LoanAmount' column\n",
    "# Using loc accessor to select the specific column\n",
    "# The median represents the middle value when data is ordered\n",
    "# This is more robust to outliers than the mean\n",
    "print(df.loc[:,'LoanAmount'].median())"
   ]
  },
  {
   "cell_type": "code",
   "execution_count": null,
   "id": "c6936e6d",
   "metadata": {},
   "outputs": [],
   "source": [
    "# Calculate the median value for each row (axis=1) and display the first 5 rows\n",
    "# This provides the middle value across all numeric columns for each individual record\n",
    "# The [0:5] slice limits the output to the first 5 rows for better readability\n",
    "df.median(axis = 1)[0:5]"
   ]
  },
  {
   "cell_type": "code",
   "execution_count": null,
   "id": "426005d3",
   "metadata": {},
   "outputs": [],
   "source": [
    "# Calculate the variance for each numeric column in the DataFrame\n",
    "# This returns a Series containing the measure of spread/dispersion for each column\n",
    "# Variance indicates how far numbers are spread out from their average value\n",
    "# It's the square of the standard deviation\n",
    "df.var()"
   ]
  },
  {
   "cell_type": "code",
   "execution_count": null,
   "id": "6f6b8589",
   "metadata": {},
   "outputs": [],
   "source": [
    "# Group the DataFrame by 'Gender' and calculate the mean 'LoanAmount' for each gender\n",
    "# This provides insight into average loan amounts by gender category\n",
    "# The result shows how loan amounts are distributed between different genders\n",
    "df[[\"Gender\",\"LoanAmount\"]].groupby(\"Gender\").mean()"
   ]
  },
  {
   "cell_type": "code",
   "execution_count": null,
   "id": "64389109",
   "metadata": {},
   "outputs": [],
   "source": [
    "# Group the DataFrame by 'Gender' and calculate the median 'LoanAmount' for each gender\n",
    "# This provides insight into the middle loan amount by gender category\n",
    "# The median is more robust to outliers than the mean, giving a better central tendency measure\n",
    "# The result shows how loan amounts are distributed between different genders\n",
    "df[[\"Gender\",\"LoanAmount\"]].groupby(\"Gender\").median()"
   ]
  },
  {
   "cell_type": "code",
   "execution_count": null,
   "id": "a7132504",
   "metadata": {},
   "outputs": [],
   "source": [
    "# Group the DataFrame by 'Self_Employed' and calculate the mean 'LoanAmount' for each employment status\n",
    "# This provides insight into average loan amounts by self-employment category\n",
    "# The result shows how loan amounts are distributed between self-employed and non-self-employed individuals\n",
    "# This analysis helps understand if self-employment status influences loan amounts\n",
    "df[[\"Self_Employed\",\"LoanAmount\"]].groupby(\"Self_Employed\").mean()"
   ]
  }
 ],
 "metadata": {
  "kernelspec": {
   "display_name": "base",
   "language": "python",
   "name": "python3"
  },
  "language_info": {
   "codemirror_mode": {
    "name": "ipython",
    "version": 3
   },
   "file_extension": ".py",
   "mimetype": "text/x-python",
   "name": "python",
   "nbconvert_exporter": "python",
   "pygments_lexer": "ipython3",
   "version": "3.12.7"
  }
 },
 "nbformat": 4,
 "nbformat_minor": 5
}
