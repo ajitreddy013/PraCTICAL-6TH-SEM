{
 "cells": [
  {
   "cell_type": "code",
   "execution_count": 1,
   "id": "01496bfb",
   "metadata": {},
   "outputs": [],
   "source": [
    "# Import required libraries for data analysis\n",
    "import pandas as pd  # For data manipulation and analysis\n",
    "import numpy as np   # For numerical operations and array handling\n",
    "import statistics as st  # For statistical functions"
   ]
  },
  {
   "cell_type": "code",
   "execution_count": 2,
   "id": "11bf972f",
   "metadata": {},
   "outputs": [],
   "source": [
    "# Read the loan dataset from CSV file into a pandas DataFrame\n",
    "# This will load the data for further analysis and processing\n",
    "df = pd.read_csv(\"loan.csv\")"
   ]
  },
  {
   "cell_type": "code",
   "execution_count": 3,
   "id": "051edb1e",
   "metadata": {},
   "outputs": [
    {
     "name": "stdout",
     "output_type": "stream",
     "text": [
      "(500, 15)\n"
     ]
    }
   ],
   "source": [
    "# Print the dimensions of the DataFrame (rows, columns)\n",
    "# This shows the total number of rows and columns in the dataset\n",
    "print(df.shape)"
   ]
  },
  {
   "cell_type": "code",
   "execution_count": 4,
   "id": "a7e9bd02",
   "metadata": {},
   "outputs": [
    {
     "name": "stdout",
     "output_type": "stream",
     "text": [
      "<class 'pandas.core.frame.DataFrame'>\n",
      "RangeIndex: 500 entries, 0 to 499\n",
      "Data columns (total 15 columns):\n",
      " #   Column             Non-Null Count  Dtype  \n",
      "---  ------             --------------  -----  \n",
      " 0   Unnamed: 0         500 non-null    int64  \n",
      " 1   Loan_ID            500 non-null    object \n",
      " 2   Gender             491 non-null    object \n",
      " 3   Married            497 non-null    object \n",
      " 4   Dependents         488 non-null    object \n",
      " 5   Education          500 non-null    object \n",
      " 6   Self_Employed      473 non-null    object \n",
      " 7   ApplicantIncome    500 non-null    int64  \n",
      " 8   CoapplicantIncome  500 non-null    float64\n",
      " 9   LoanAmount         482 non-null    float64\n",
      " 10  Loan_Amount_Term   486 non-null    float64\n",
      " 11  Credit_History     459 non-null    float64\n",
      " 12  Property_Area      500 non-null    object \n",
      " 13  Loan_Status        500 non-null    object \n",
      " 14  Total_Income       500 non-null    object \n",
      "dtypes: float64(4), int64(2), object(9)\n",
      "memory usage: 58.7+ KB\n",
      "None\n"
     ]
    }
   ],
   "source": [
    "# Display detailed information about the DataFrame including:\n",
    "# - Data types of each column\n",
    "# - Number of non-null values\n",
    "# - Memory usage\n",
    "# - Index information\n",
    "print(df.info())"
   ]
  },
  {
   "cell_type": "code",
   "execution_count": 5,
   "id": "f96c3546",
   "metadata": {},
   "outputs": [
    {
     "data": {
      "text/plain": [
       "Unnamed: 0            249.500000\n",
       "Loan_ID                      NaN\n",
       "Gender                       NaN\n",
       "Married                      NaN\n",
       "Dependents              0.533482\n",
       "Education                    NaN\n",
       "Self_Employed                NaN\n",
       "ApplicantIncome      5493.644000\n",
       "CoapplicantIncome    1506.307840\n",
       "LoanAmount            144.020747\n",
       "Loan_Amount_Term      342.543210\n",
       "Credit_History          0.843137\n",
       "Property_Area                NaN\n",
       "Loan_Status                  NaN\n",
       "Total_Income                 NaN\n",
       "dtype: float64"
      ]
     },
     "execution_count": 5,
     "metadata": {},
     "output_type": "execute_result"
    }
   ],
   "source": [
    "# Convert all columns to numeric type, replacing non-numeric values with NaN\n",
    "# This ensures consistent data types for statistical calculations\n",
    "# The 'coerce' parameter handles invalid values by converting them to NaN\n",
    "df = df.apply(pd.to_numeric, errors='coerce')\n",
    "df.mean()"
   ]
  },
  {
   "cell_type": "code",
   "execution_count": 6,
   "id": "20ee56e7",
   "metadata": {},
   "outputs": [
    {
     "data": {
      "text/plain": [
       "Unnamed: 0             499.0\n",
       "Loan_ID                  NaN\n",
       "Gender                   NaN\n",
       "Married                  NaN\n",
       "Dependents               2.0\n",
       "Education                NaN\n",
       "Self_Employed            NaN\n",
       "ApplicantIncome      81000.0\n",
       "CoapplicantIncome    20000.0\n",
       "LoanAmount             700.0\n",
       "Loan_Amount_Term       480.0\n",
       "Credit_History           1.0\n",
       "Property_Area            NaN\n",
       "Loan_Status              NaN\n",
       "Total_Income             NaN\n",
       "dtype: float64"
      ]
     },
     "execution_count": 6,
     "metadata": {},
     "output_type": "execute_result"
    }
   ],
   "source": [
    "# Calculate the maximum value for each numeric column in the DataFrame\n",
    "# This returns a Series containing the highest value found in each column\n",
    "df.max()"
   ]
  },
  {
   "cell_type": "code",
   "execution_count": 7,
   "id": "cf428baf",
   "metadata": {},
   "outputs": [
    {
     "data": {
      "text/plain": [
       "Unnamed: 0             0.0\n",
       "Loan_ID                NaN\n",
       "Gender                 NaN\n",
       "Married                NaN\n",
       "Dependents             0.0\n",
       "Education              NaN\n",
       "Self_Employed          NaN\n",
       "ApplicantIncome      150.0\n",
       "CoapplicantIncome      0.0\n",
       "LoanAmount            17.0\n",
       "Loan_Amount_Term      12.0\n",
       "Credit_History         0.0\n",
       "Property_Area          NaN\n",
       "Loan_Status            NaN\n",
       "Total_Income           NaN\n",
       "dtype: float64"
      ]
     },
     "execution_count": 7,
     "metadata": {},
     "output_type": "execute_result"
    }
   ],
   "source": [
    "# Calculate the minimum value for each numeric column in the DataFrame\n",
    "# This returns a Series containing the lowest value found in each column\n",
    "df.min()"
   ]
  },
  {
   "cell_type": "code",
   "execution_count": 8,
   "id": "8983f5ac",
   "metadata": {},
   "outputs": [
    {
     "data": {
      "text/plain": [
       "Unnamed: 0            249.5\n",
       "Loan_ID                 NaN\n",
       "Gender                  NaN\n",
       "Married                 NaN\n",
       "Dependents              0.0\n",
       "Education               NaN\n",
       "Self_Employed           NaN\n",
       "ApplicantIncome      3854.0\n",
       "CoapplicantIncome    1125.5\n",
       "LoanAmount            126.5\n",
       "Loan_Amount_Term      360.0\n",
       "Credit_History          1.0\n",
       "Property_Area           NaN\n",
       "Loan_Status             NaN\n",
       "Total_Income            NaN\n",
       "dtype: float64"
      ]
     },
     "execution_count": 8,
     "metadata": {},
     "output_type": "execute_result"
    }
   ],
   "source": [
    "# Calculate the median value for each numeric column in the DataFrame\n",
    "# This returns a Series containing the middle value of each column when sorted\n",
    "# The median is less sensitive to outliers than the mean\n",
    "df.median()"
   ]
  },
  {
   "cell_type": "code",
   "execution_count": 9,
   "id": "3b10f281",
   "metadata": {},
   "outputs": [
    {
     "data": {
      "text/plain": [
       "Unnamed: 0            144.481833\n",
       "Loan_ID                      NaN\n",
       "Gender                       NaN\n",
       "Married                      NaN\n",
       "Dependents              0.776468\n",
       "Education                    NaN\n",
       "Self_Employed                NaN\n",
       "ApplicantIncome      6515.668972\n",
       "CoapplicantIncome    2134.432188\n",
       "LoanAmount             82.344919\n",
       "Loan_Amount_Term       63.834977\n",
       "Credit_History          0.364068\n",
       "Property_Area                NaN\n",
       "Loan_Status                  NaN\n",
       "Total_Income                 NaN\n",
       "dtype: float64"
      ]
     },
     "execution_count": 9,
     "metadata": {},
     "output_type": "execute_result"
    }
   ],
   "source": [
    "# Calculate the standard deviation for each numeric column in the DataFrame\n",
    "# This returns a Series containing the measure of spread/dispersion for each column\n",
    "# Standard deviation indicates how much the values deviate from the mean\n",
    "df.std()"
   ]
  },
  {
   "cell_type": "code",
   "execution_count": 10,
   "id": "9f90b9d6",
   "metadata": {},
   "outputs": [
    {
     "name": "stdout",
     "output_type": "stream",
     "text": [
      "144.0207468879668\n"
     ]
    }
   ],
   "source": [
    "# Calculate the mean value of the 'LoanAmount' column\n",
    "# Using loc accessor to select the specific column\n",
    "# This provides a measure of central tendency for loan amounts\n",
    "print(df.loc[:,'LoanAmount'].mean())"
   ]
  },
  {
   "cell_type": "code",
   "execution_count": 11,
   "id": "408fa02c",
   "metadata": {},
   "outputs": [
    {
     "data": {
      "text/plain": [
       "0    1035.000000\n",
       "1     940.285714\n",
       "2     489.857143\n",
       "3     775.000000\n",
       "4     929.428571\n",
       "dtype: float64"
      ]
     },
     "execution_count": 11,
     "metadata": {},
     "output_type": "execute_result"
    }
   ],
   "source": [
    "# Calculate the mean value for each row (axis=1) and display the first 5 rows\n",
    "# This provides the average value across all numeric columns for each individual record\n",
    "# The [0:5] slice limits the output to the first 5 rows for better readability\n",
    "df.mean(axis = 1)[0:5]"
   ]
  },
  {
   "cell_type": "code",
   "execution_count": 12,
   "id": "b9ccf61a",
   "metadata": {},
   "outputs": [
    {
     "name": "stdout",
     "output_type": "stream",
     "text": [
      "126.5\n"
     ]
    }
   ],
   "source": [
    "# Calculate the median value of the 'LoanAmount' column\n",
    "# Using loc accessor to select the specific column\n",
    "# The median represents the middle value when data is ordered\n",
    "# This is more robust to outliers than the mean\n",
    "print(df.loc[:,'LoanAmount'].median())"
   ]
  },
  {
   "cell_type": "code",
   "execution_count": 13,
   "id": "c6936e6d",
   "metadata": {},
   "outputs": [
    {
     "data": {
      "text/plain": [
       "0      0.5\n",
       "1    128.0\n",
       "2      2.0\n",
       "3    120.0\n",
       "4      4.0\n",
       "dtype: float64"
      ]
     },
     "execution_count": 13,
     "metadata": {},
     "output_type": "execute_result"
    }
   ],
   "source": [
    "# Calculate the median value for each row (axis=1) and display the first 5 rows\n",
    "# This provides the middle value across all numeric columns for each individual record\n",
    "# The [0:5] slice limits the output to the first 5 rows for better readability\n",
    "df.median(axis = 1)[0:5]"
   ]
  },
  {
   "cell_type": "code",
   "execution_count": 14,
   "id": "426005d3",
   "metadata": {},
   "outputs": [
    {
     "data": {
      "text/plain": [
       "Unnamed: 0           2.087500e+04\n",
       "Loan_ID                       NaN\n",
       "Gender                        NaN\n",
       "Married                       NaN\n",
       "Dependents           6.029033e-01\n",
       "Education                     NaN\n",
       "Self_Employed                 NaN\n",
       "ApplicantIncome      4.245394e+07\n",
       "CoapplicantIncome    4.555801e+06\n",
       "LoanAmount           6.780686e+03\n",
       "Loan_Amount_Term     4.074904e+03\n",
       "Credit_History       1.325456e-01\n",
       "Property_Area                 NaN\n",
       "Loan_Status                   NaN\n",
       "Total_Income                  NaN\n",
       "dtype: float64"
      ]
     },
     "execution_count": 14,
     "metadata": {},
     "output_type": "execute_result"
    }
   ],
   "source": [
    "# Calculate the variance for each numeric column in the DataFrame\n",
    "# This returns a Series containing the measure of spread/dispersion for each column\n",
    "# Variance indicates how far numbers are spread out from their average value\n",
    "# It's the square of the standard deviation\n",
    "df.var()"
   ]
  },
  {
   "cell_type": "code",
   "execution_count": 15,
   "id": "6f6b8589",
   "metadata": {},
   "outputs": [
    {
     "data": {
      "text/html": [
       "<div>\n",
       "<style scoped>\n",
       "    .dataframe tbody tr th:only-of-type {\n",
       "        vertical-align: middle;\n",
       "    }\n",
       "\n",
       "    .dataframe tbody tr th {\n",
       "        vertical-align: top;\n",
       "    }\n",
       "\n",
       "    .dataframe thead th {\n",
       "        text-align: right;\n",
       "    }\n",
       "</style>\n",
       "<table border=\"1\" class=\"dataframe\">\n",
       "  <thead>\n",
       "    <tr style=\"text-align: right;\">\n",
       "      <th></th>\n",
       "      <th>LoanAmount</th>\n",
       "    </tr>\n",
       "    <tr>\n",
       "      <th>Gender</th>\n",
       "      <th></th>\n",
       "    </tr>\n",
       "  </thead>\n",
       "  <tbody>\n",
       "  </tbody>\n",
       "</table>\n",
       "</div>"
      ],
      "text/plain": [
       "Empty DataFrame\n",
       "Columns: [LoanAmount]\n",
       "Index: []"
      ]
     },
     "execution_count": 15,
     "metadata": {},
     "output_type": "execute_result"
    }
   ],
   "source": [
    "# Group the DataFrame by 'Gender' and calculate the mean 'LoanAmount' for each gender\n",
    "# This provides insight into average loan amounts by gender category\n",
    "# The result shows how loan amounts are distributed between different genders\n",
    "df[[\"Gender\",\"LoanAmount\"]].groupby(\"Gender\").mean()"
   ]
  },
  {
   "cell_type": "code",
   "execution_count": 16,
   "id": "64389109",
   "metadata": {},
   "outputs": [
    {
     "data": {
      "text/html": [
       "<div>\n",
       "<style scoped>\n",
       "    .dataframe tbody tr th:only-of-type {\n",
       "        vertical-align: middle;\n",
       "    }\n",
       "\n",
       "    .dataframe tbody tr th {\n",
       "        vertical-align: top;\n",
       "    }\n",
       "\n",
       "    .dataframe thead th {\n",
       "        text-align: right;\n",
       "    }\n",
       "</style>\n",
       "<table border=\"1\" class=\"dataframe\">\n",
       "  <thead>\n",
       "    <tr style=\"text-align: right;\">\n",
       "      <th></th>\n",
       "      <th>LoanAmount</th>\n",
       "    </tr>\n",
       "    <tr>\n",
       "      <th>Gender</th>\n",
       "      <th></th>\n",
       "    </tr>\n",
       "  </thead>\n",
       "  <tbody>\n",
       "  </tbody>\n",
       "</table>\n",
       "</div>"
      ],
      "text/plain": [
       "Empty DataFrame\n",
       "Columns: [LoanAmount]\n",
       "Index: []"
      ]
     },
     "execution_count": 16,
     "metadata": {},
     "output_type": "execute_result"
    }
   ],
   "source": [
    "# Group the DataFrame by 'Gender' and calculate the median 'LoanAmount' for each gender\n",
    "# This provides insight into the middle loan amount by gender category\n",
    "# The median is more robust to outliers than the mean, giving a better central tendency measure\n",
    "# The result shows how loan amounts are distributed between different genders\n",
    "df[[\"Gender\",\"LoanAmount\"]].groupby(\"Gender\").median()"
   ]
  },
  {
   "cell_type": "code",
   "execution_count": 17,
   "id": "a7132504",
   "metadata": {},
   "outputs": [
    {
     "data": {
      "text/html": [
       "<div>\n",
       "<style scoped>\n",
       "    .dataframe tbody tr th:only-of-type {\n",
       "        vertical-align: middle;\n",
       "    }\n",
       "\n",
       "    .dataframe tbody tr th {\n",
       "        vertical-align: top;\n",
       "    }\n",
       "\n",
       "    .dataframe thead th {\n",
       "        text-align: right;\n",
       "    }\n",
       "</style>\n",
       "<table border=\"1\" class=\"dataframe\">\n",
       "  <thead>\n",
       "    <tr style=\"text-align: right;\">\n",
       "      <th></th>\n",
       "      <th>LoanAmount</th>\n",
       "    </tr>\n",
       "    <tr>\n",
       "      <th>Self_Employed</th>\n",
       "      <th></th>\n",
       "    </tr>\n",
       "  </thead>\n",
       "  <tbody>\n",
       "  </tbody>\n",
       "</table>\n",
       "</div>"
      ],
      "text/plain": [
       "Empty DataFrame\n",
       "Columns: [LoanAmount]\n",
       "Index: []"
      ]
     },
     "execution_count": 17,
     "metadata": {},
     "output_type": "execute_result"
    }
   ],
   "source": [
    "# Group the DataFrame by 'Self_Employed' and calculate the mean 'LoanAmount' for each employment status\n",
    "# This provides insight into average loan amounts by self-employment category\n",
    "# The result shows how loan amounts are distributed between self-employed and non-self-employed individuals\n",
    "# This analysis helps understand if self-employment status influences loan amounts\n",
    "df[[\"Self_Employed\",\"LoanAmount\"]].groupby(\"Self_Employed\").mean()"
   ]
  }
 ],
 "metadata": {
  "kernelspec": {
   "display_name": "base",
   "language": "python",
   "name": "python3"
  },
  "language_info": {
   "codemirror_mode": {
    "name": "ipython",
    "version": 3
   },
   "file_extension": ".py",
   "mimetype": "text/x-python",
   "name": "python",
   "nbconvert_exporter": "python",
   "pygments_lexer": "ipython3",
   "version": "3.12.7"
  }
 },
 "nbformat": 4,
 "nbformat_minor": 5
}
