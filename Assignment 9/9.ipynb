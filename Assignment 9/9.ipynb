{
 "cells": [
  {
   "cell_type": "code",
   "execution_count": 1,
   "id": "f1da4a80",
   "metadata": {},
   "outputs": [],
   "source": [
    "# Import necessary libraries for data analysis and visualization\n",
    "import numpy as np  # For numerical operations and array handling\n",
    "import pandas as pd  # For data manipulation and analysis\n",
    "import matplotlib.pyplot as plt  # For creating static, animated, and interactive visualizations\n",
    "import seaborn as sns  # For statistical data visualization\n",
    "from seaborn import load_dataset  # For loading example datasets from seaborn"
   ]
  },
  {
   "cell_type": "code",
   "execution_count": 2,
   "id": "5a51b152",
   "metadata": {},
   "outputs": [],
   "source": [
    "# Load the Titanic dataset from CSV file\n",
    "# This dataset contains information about passengers on the Titanic including survival status, passenger class, age, gender, etc.\n",
    "# The data will be used for various data analysis and visualization tasks\n",
    "data = pd.read_csv(\"titanic_Dataset.csv\")"
   ]
  },
  {
   "cell_type": "code",
   "execution_count": 3,
   "id": "21e93d4c",
   "metadata": {},
   "outputs": [],
   "source": [
    "# Load the tips dataset from seaborn library\n",
    "# This dataset contains information about restaurant tips including total bill amount, tip amount, gender of the payer, \n",
    "# whether they smoked, day of the week, time of day, and size of the party\n",
    "# The data will be used for analyzing tipping patterns and relationships between different variables\n",
    "tips = load_dataset(\"tips\")"
   ]
  },
  {
   "cell_type": "code",
   "execution_count": null,
   "id": "f9b9d32c",
   "metadata": {},
   "outputs": [],
   "source": [
    "# Create a count plot to visualize the distribution of survival status (0 = Not Survived, 1 = Survived)\n",
    "# This helps understand the proportion of passengers who survived vs. did not survive the Titanic disaster\n",
    "sns.countplot(data['Survived'])\n",
    "plt.show()"
   ]
  },
  {
   "cell_type": "code",
   "execution_count": null,
   "id": "fe8b622a",
   "metadata": {},
   "outputs": [],
   "source": [
    "# Create a pie chart to visualize the distribution of passengers by gender\n",
    "# The pie chart shows the proportion of male and female passengers on the Titanic\n",
    "# autopct=\"%.2f\" formats the percentage values to show 2 decimal places\n",
    "data['Sex'].value_counts().plot(kind=\"pie\", autopct=\"%.2f\")\n",
    "plt.show()"
   ]
  },
  {
   "cell_type": "code",
   "execution_count": null,
   "id": "755bd91b",
   "metadata": {},
   "outputs": [],
   "source": [
    "# Create a histogram to visualize the age distribution of passengers\n",
    "# bins=5 specifies the number of intervals to divide the age range into\n",
    "# This helps understand the frequency distribution of passenger ages\n",
    "plt.hist(data['Age'], bins=5) \n",
    "plt.show()"
   ]
  },
  {
   "cell_type": "code",
   "execution_count": null,
   "id": "63052542",
   "metadata": {},
   "outputs": [],
   "source": [
    "# Create a distribution plot to visualize the age distribution of passengers\n",
    "# This plot combines a histogram with a kernel density estimate (KDE) to show both the frequency distribution and the probability density\n",
    "# The KDE helps smooth out the data and provides a better understanding of the underlying distribution\n",
    "sns.distplot(data['Age'])  \n",
    "plt.show()"
   ]
  },
  {
   "cell_type": "code",
   "execution_count": null,
   "id": "92f042d3",
   "metadata": {},
   "outputs": [],
   "source": [
    "# Create a scatter plot to visualize the relationship between total bill and tip amount, \n",
    "# with different colors representing different genders (male/female)\n",
    "# This helps analyze if there's any correlation between bill amount and tipping behavior, \n",
    "# and whether gender plays a role in tipping patterns\n",
    "sns.scatterplot(x=\"total_bill\", y=\"tip\", hue=\"sex\", data=tips)\n",
    "plt.title(\"Scatter plot of Total Bill vs Tip\")\n",
    "plt.show()\n"
   ]
  },
  {
   "cell_type": "code",
   "execution_count": null,
   "id": "6ffabe25",
   "metadata": {},
   "outputs": [],
   "source": [
    "# Create a bar plot to visualize the average age of passengers by passenger class (Pclass) and gender (Sex)\n",
    "# The x-axis shows the passenger class (1st, 2nd, 3rd class)\n",
    "# The y-axis shows the average age\n",
    "# Different colors represent male and female passengers\n",
    "# This helps analyze if there are differences in age distribution across classes and genders\n",
    "sns.barplot(x='Pclass', y='Age', hue='Sex', data=data)\n",
    "plt.title(\"AverageAge by Class and Gender\")\n",
    "plt.show()\n"
   ]
  },
  {
   "cell_type": "code",
   "execution_count": null,
   "id": "fe0ce1ff",
   "metadata": {},
   "outputs": [],
   "source": [
    "# Create a box plot to visualize the age distribution by gender\n",
    "# The x-axis shows the gender categories (male/female)\n",
    "# The y-axis shows the age values\n",
    "# The box plot displays the median, quartiles, and potential outliers in the age distribution for each gender\n",
    "# This helps analyze if there are differences in age distribution between male and female passengers\n",
    "sns.boxplot(x='Sex', y='Age', data=data)\n",
    "plt.title(\"Age Distribution by Sex\")\n",
    "plt.show()\n"
   ]
  },
  {
   "cell_type": "code",
   "execution_count": null,
   "id": "6b0a2899",
   "metadata": {},
   "outputs": [],
   "source": [
    "# Create a box plot to visualize the age distribution by gender and survival status\n",
    "# The x-axis shows the gender categories (male/female)\n",
    "# The y-axis shows the age values\n",
    "# The hue parameter splits the data by survival status (0 = did not survive, 1 = survived)\n",
    "# This helps analyze if there are differences in age distribution between survivors and non-survivors within each gender\n",
    "sns.boxplot(x='Sex', y='Age', hue='Survived', data=data)\n",
    "plt.title(\"Age distribution by Sex and Survival\")\n",
    "plt.show()\n"
   ]
  },
  {
   "cell_type": "code",
   "execution_count": null,
   "id": "a13922cd",
   "metadata": {},
   "outputs": [],
   "source": [
    "# Create a distribution plot for age of non-survivors (Survived = 0)\n",
    "# The plot shows the probability density of ages for passengers who did not survive\n",
    "# hist=False removes the histogram bars, showing only the density curve\n",
    "# color=\"blue\" represents non-survivors\n",
    "sns.distplot(data[data['Survived'] == 0]['Age'], hist=False, color=\"blue\")\n",
    "sns.distplot(data[data['Survived'] == 1]['Age'], hist=False, color=\"orange\") \n",
    "plt.show()"
   ]
  },
  {
   "cell_type": "code",
   "execution_count": null,
   "id": "7ffc1c63",
   "metadata": {},
   "outputs": [],
   "source": [
    "# Create a cross-tabulation (contingency table) between passenger class (Pclass) and survival status (Survived)\n",
    "# This shows the frequency distribution of survival across different passenger classes\n",
    "# Rows represent passenger classes (1st, 2nd, 3rd class)\n",
    "# Columns represent survival status (0 = did not survive, 1 = survived)\n",
    "pd.crosstab(data['Pclass'], data['Survived'])"
   ]
  },
  {
   "cell_type": "code",
   "execution_count": null,
   "id": "edec7372",
   "metadata": {},
   "outputs": [],
   "source": [
    "# Create a heatmap visualization of the cross-tabulation between passenger class and survival status\n",
    "# The heatmap uses color intensity to represent the frequency of passengers in each class who survived/did not survive\n",
    "# Darker colors indicate higher frequencies, making it easy to spot patterns in survival rates across classes\n",
    "sns.heatmap(pd.crosstab(data['Pclass'], data['Survived']))"
   ]
  },
  {
   "cell_type": "code",
   "execution_count": null,
   "id": "5a70d65e",
   "metadata": {},
   "outputs": [],
   "source": [
    "# Create a clustered heatmap visualization of the cross-tabulation between number of parents/children aboard (Parch) and survival status\n",
    "# The clustermap not only shows the frequency distribution but also clusters similar patterns together\n",
    "# This helps identify if there are any patterns in survival rates based on the number of parents/children a passenger had aboard\n",
    "sns.clustermap(pd.crosstab(data['Parch'], data['Survived']))\n",
    "plt.show()"
   ]
  }
 ],
 "metadata": {
  "kernelspec": {
   "display_name": "base",
   "language": "python",
   "name": "python3"
  },
  "language_info": {
   "codemirror_mode": {
    "name": "ipython",
    "version": 3
   },
   "file_extension": ".py",
   "mimetype": "text/x-python",
   "name": "python",
   "nbconvert_exporter": "python",
   "pygments_lexer": "ipython3",
   "version": "3.12.7"
  }
 },
 "nbformat": 4,
 "nbformat_minor": 5
}
