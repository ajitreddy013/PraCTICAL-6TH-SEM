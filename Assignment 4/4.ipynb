{
 "cells": [
  {
   "cell_type": "code",
   "execution_count": 1,
   "id": "6ee77c6d",
   "metadata": {},
   "outputs": [],
   "source": [
    "# Import required libraries for data manipulation and machine learning\n",
    "import pandas as pd  # For data manipulation and analysis\n",
    "import numpy as np  # For numerical computations\n",
    "from sklearn import linear_model  # For implementing linear regression\n",
    "from sklearn.model_selection import train_test_split  # For splitting data into training and testing sets"
   ]
  },
  {
   "cell_type": "code",
   "execution_count": 2,
   "id": "454edccd",
   "metadata": {},
   "outputs": [],
   "source": [
    "# Load the Boston Housing dataset from CSV file\n",
    "# This dataset contains information about various features of houses in Boston\n",
    "# including crime rate, average number of rooms, property tax rate, etc.\n",
    "# The target variable is the median value of owner-occupied homes in $1000s\n",
    "df=pd.read_csv(\"boston_housing.csv\")"
   ]
  },
  {
   "cell_type": "code",
   "execution_count": null,
   "id": "2e2ad5b6",
   "metadata": {},
   "outputs": [],
   "source": [
    "# View the dimensions of the dataset using df.shape\n",
    "# Returns a tuple containing (number of rows, number of columns)\n",
    "# In this case, shows 506 samples with 14 features including the target variable\n",
    "df.shape"
   ]
  },
  {
   "cell_type": "code",
   "execution_count": null,
   "id": "4d1f5db9",
   "metadata": {},
   "outputs": [],
   "source": [
    "# Generate comprehensive statistical summary of the dataset including:\n",
    "# - count: number of non-null values for each column\n",
    "# - mean: average value of each feature\n",
    "# - std: standard deviation showing spread of values\n",
    "# - min: minimum value in each column\n",
    "# - 25th percentile: value below which 25% of data falls\n",
    "# - 50th percentile (median): middle value of data\n",
    "# - 75th percentile: value below which 75% of data falls\n",
    "# - max: maximum value in each column\n",
    "df.describe()"
   ]
  },
  {
   "cell_type": "code",
   "execution_count": null,
   "id": "8cdafd34",
   "metadata": {},
   "outputs": [],
   "source": [
    "# Display the first 5 rows of the dataset to examine features and their values\n",
    "# This helps understand the structure and content of the data before analysis\n",
    "# Shows initial data quality and potential patterns in the features\n",
    "df.head()"
   ]
  },
  {
   "cell_type": "code",
   "execution_count": null,
   "id": "99eb993d",
   "metadata": {},
   "outputs": [],
   "source": [
    "# Assign feature variable to df_x by selecting all columns except 'price'\n",
    "# This creates our feature matrix X containing all independent variables\n",
    "# We exclude the target variable 'price' to avoid data leakage\n",
    "df_x = df.drop('price', axis=1)\n",
    "df_x=df\n",
    "print(df_x)"
   ]
  },
  {
   "cell_type": "code",
   "execution_count": null,
   "id": "6bc66a00",
   "metadata": {},
   "outputs": [],
   "source": [
    "# Assign the target variable 'price' to df_y\n",
    "# This creates our target vector y containing the median house prices\n",
    "# The target variable represents the dependent variable we want to predict\n",
    "df_y=df.price\n",
    "print(df_y)"
   ]
  },
  {
   "cell_type": "code",
   "execution_count": 8,
   "id": "2871e09f",
   "metadata": {},
   "outputs": [],
   "source": [
    "# Linear regression is a statistical method that models the relationship between a dependent variable (target) and one or more independent variables (features)\n",
    "# by fitting a linear equation to observed data. The model assumes a linear relationship between the input variables and the target variable.\n",
    "# In this case, we're using scikit-learn's implementation to predict house prices based on various housing features.\n",
    "# This creates a new instance of LinearRegression class which will:\n",
    "# - Find the best-fit line through the data points\n",
    "# - Minimize the sum of squared errors between predictions and actual values\n",
    "# - Calculate coefficients (weights) for each feature\n",
    "# - Handle multiple features automatically through matrix operations\n",
    "reg =linear_model.LinearRegression()"
   ]
  },
  {
   "cell_type": "code",
   "execution_count": 9,
   "id": "fc372214",
   "metadata": {},
   "outputs": [],
   "source": [
    "# Split the data into training and testing sets:\n",
    "# - 67% of data for training (x_train, y_train)\n",
    "# - 33% of data for testing (x_test, y_test)\n",
    "# - random_state=42 ensures reproducibility of the split\n",
    "# - This split helps evaluate model performance on unseen data\n",
    "x_train, x_test, y_train, y_test = train_test_split(df_x, df_y, test_size=0.33, random_state=42)"
   ]
  },
  {
   "cell_type": "code",
   "execution_count": null,
   "id": "f3ea06a5",
   "metadata": {},
   "outputs": [],
   "source": [
    "# 1--Train our model with the training data\n",
    "# This step fits the linear regression model to our training data by:\n",
    "# - Computing the optimal coefficients for each feature\n",
    "# - Finding the best-fit line that minimizes the sum of squared errors\n",
    "# - Learning the relationship between features and target variable\n",
    "# - Using the training data to establish the model's parameters\n",
    "reg.fit(x_train, y_train)"
   ]
  },
  {
   "cell_type": "code",
   "execution_count": null,
   "id": "fc7a1e73",
   "metadata": {},
   "outputs": [],
   "source": [
    "# Print the coefficients/weights for each feature/column of our model\n",
    "# These coefficients represent:\n",
    "# - The importance/impact of each feature on the target variable (price)\n",
    "# - The change in predicted price for a one-unit increase in each feature\n",
    "# - The learned parameters that minimize the sum of squared errors\n",
    "# - The weights that define the linear relationship between features and price\n",
    "print(reg.coef_)"
   ]
  },
  {
   "cell_type": "code",
   "execution_count": null,
   "id": "1148c07d",
   "metadata": {},
   "outputs": [],
   "source": [
    "# Generate and print price predictions for the test dataset\n",
    "# This step:\n",
    "# - Uses the trained model (reg) to predict house prices\n",
    "# - Applies the learned coefficients to the test features (x_test)\n",
    "# - Produces predicted prices for each house in the test set\n",
    "# - These predictions can be compared with actual prices (y_test) to evaluate model accuracy\n",
    "y_pred = reg.predict(x_test)\n",
    "print(y_pred)"
   ]
  },
  {
   "cell_type": "code",
   "execution_count": null,
   "id": "ba9f9f5b",
   "metadata": {},
   "outputs": [],
   "source": [
    "# Print the predicted house price for the first house in the test dataset\n",
    "# This shows the model's prediction based on the learned coefficients\n",
    "# The prediction is generated using the features of the first test house\n",
    "y_pred[0]"
   ]
  },
  {
   "cell_type": "code",
   "execution_count": null,
   "id": "2f5ae454",
   "metadata": {},
   "outputs": [],
   "source": [
    "# Print the actual house price for the first house in the test dataset\n",
    "# This shows the true price value that we can compare with our prediction\n",
    "# This comparison helps evaluate how well our model's prediction (y_pred[0]) matches reality\n",
    "y_test[0]"
   ]
  },
  {
   "cell_type": "code",
   "execution_count": null,
   "id": "c626a8a6",
   "metadata": {},
   "outputs": [],
   "source": [
    "# Calculate the Mean Squared Error (MSE) to evaluate model performance\n",
    "# MSE measures the average squared difference between predicted and actual values\n",
    "# - Lower MSE indicates better model performance\n",
    "# - Squaring the differences penalizes larger errors more heavily\n",
    "# - This metric helps quantify how well our model's predictions match the actual prices\n",
    "print(np.mean((y_pred-y_test)**2))"
   ]
  }
 ],
 "metadata": {
  "kernelspec": {
   "display_name": "base",
   "language": "python",
   "name": "python3"
  },
  "language_info": {
   "codemirror_mode": {
    "name": "ipython",
    "version": 3
   },
   "file_extension": ".py",
   "mimetype": "text/x-python",
   "name": "python",
   "nbconvert_exporter": "python",
   "pygments_lexer": "ipython3",
   "version": "3.12.7"
  }
 },
 "nbformat": 4,
 "nbformat_minor": 5
}
